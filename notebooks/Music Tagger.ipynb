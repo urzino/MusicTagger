{
 "cells": [
  {
   "cell_type": "code",
   "execution_count": 4,
   "metadata": {},
   "outputs": [],
   "source": [
    "import keras\n",
    "import numpy as np\n",
    "import pandas as pd\n",
    "from tqdm import tqdm\n",
    "import os\n",
    "import matplotlib.pyplot as plt\n",
    "from sklearn.model_selection import train_test_split\n",
    "from scipy.io import wavfile\n",
    "\n",
    "from sklearn.metrics import accuracy_score\n",
    "\n",
    "from bokeh.plotting import figure, show\n",
    "from bokeh.io import output_notebook\n"
   ]
  },
  {
   "cell_type": "code",
   "execution_count": 5,
   "metadata": {},
   "outputs": [],
   "source": [
    "from keras.layers import Conv1D, MaxPool1D, Activation, Dense, Input, Flatten\n",
    "from keras.losses import binary_crossentropy\n",
    "from keras.utils import Sequence\n",
    "import tensorflow as tf"
   ]
  },
  {
   "cell_type": "markdown",
   "metadata": {},
   "source": [
    "# Prepare Training set"
   ]
  },
  {
   "cell_type": "code",
   "execution_count": 5,
   "metadata": {},
   "outputs": [],
   "source": [
    "annotations_path = '../data/MagnaTagATune/annotation_reduced.csv'\n",
    "annotations = pd.read_csv(annotations_path, sep='\\t')\n",
    "train_set, test_set = train_test_split(annotations['mp3_path'], train_size=0.01, test_size=0.1) "
   ]
  },
  {
   "cell_type": "code",
   "execution_count": null,
   "metadata": {},
   "outputs": [
    {
     "name": "stderr",
     "output_type": "stream",
     "text": [
      "100%|██████████| 258/258 [00:06<00:00, 39.56it/s]\n",
      " 81%|████████  | 2097/2586 [01:02<00:14, 33.72it/s]"
     ]
    }
   ],
   "source": [
    "x_train = []\n",
    "x_test = []\n",
    "for value in tqdm(train_set):\n",
    "    path = '../data/MagnaTagATune/rawwav/'+value[:-3]+'wav'\n",
    "    _, data = wavfile.read(path)\n",
    "    x_train.append(data)\n",
    "x_train = np.array(x_train)[:,:,np.newaxis]\n",
    "\n",
    "for value in tqdm(test_set):\n",
    "    path = '../data/MagnaTagATune/rawwav/'+value[:-3]+'wav'\n",
    "    _, data = wavfile.read(path)\n",
    "    x_test.append(data)\n",
    "x_test = np.array(x_test)[:,:,np.newaxis]\n",
    "\n",
    "with open('x_train','wb') as outfile:\n",
    "    pickle.dump(x_train,outfile)\n",
    "with open('x_test','wb') as outfile:\n",
    "    pickle.dump(x_test,outfile)\n",
    "\n",
    "print(\"X train shape:\",x_train.shape)\n",
    "print(\"X test shape:\",x_test.shape)"
   ]
  },
  {
   "cell_type": "code",
   "execution_count": null,
   "metadata": {},
   "outputs": [],
   "source": [
    "class MagnaTagTuneSequence(Sequence)"
   ]
  },
  {
   "cell_type": "code",
   "execution_count": null,
   "metadata": {},
   "outputs": [],
   "source": [
    "pickle.load(x_train,outfile)"
   ]
  },
  {
   "cell_type": "code",
   "execution_count": null,
   "metadata": {
    "scrolled": true
   },
   "outputs": [],
   "source": [
    "y_train = annotations.loc[annotations['mp3_path'].isin(train_set)].drop(columns=['mp3_path','Unnamed: 0']).values\n",
    "y_test = annotations.loc[annotations['mp3_path'].isin(test_set)].drop(columns=['mp3_path','Unnamed: 0']).values\n",
    "print(\"Y train shape:\",y_train.shape)\n",
    "print(\"Y test shape:\",y_test.shape)"
   ]
  },
  {
   "cell_type": "code",
   "execution_count": null,
   "metadata": {},
   "outputs": [],
   "source": [
    "config = tf.ConfigProto(device_count={'GPU':0})\n",
    "#config.gpu_options.allow_growth = True\n",
    "session = tf.Session(config=config)\n",
    "keras.backend.set_session(session)\n",
    "\n",
    "model = keras.Sequential()\n",
    "model.add(Conv1D(filters=10, kernel_size=13, strides=6, input_shape=(x_train.shape[1],1)))\n",
    "model.add(Activation('relu'))\n",
    "model.add(MaxPool1D(pool_size=3)) #\n",
    "model.add(Conv1D(filters=4, kernel_size=3, strides=1))\n",
    "model.add(Activation('relu'))\n",
    "model.add(MaxPool1D(pool_size=2))\n",
    "model.add(Flatten())\n",
    "model.add(Dense(units=y_train.shape[1], activation='sigmoid'))"
   ]
  },
  {
   "cell_type": "code",
   "execution_count": null,
   "metadata": {},
   "outputs": [],
   "source": [
    "model.summary()"
   ]
  },
  {
   "cell_type": "code",
   "execution_count": null,
   "metadata": {},
   "outputs": [],
   "source": [
    "model.compile(optimizer='adam', loss='binary_crossentropy', metrics=['accuracy'])"
   ]
  },
  {
   "cell_type": "code",
   "execution_count": null,
   "metadata": {},
   "outputs": [],
   "source": [
    "callbacks = [keras.callbacks.TensorBoard(log_dir='./logs', histogram_freq=0, batch_size=32, write_graph=True,\n",
    "                                         write_grads=False, write_images=False, embeddings_freq=0, embeddings_layer_names=None, \n",
    "                                         embeddings_metadata=None)]\n",
    "model.fit(x_train,y_train,epochs=10, batch_size=32, callbacks=callbacks)"
   ]
  },
  {
   "cell_type": "code",
   "execution_count": null,
   "metadata": {},
   "outputs": [],
   "source": [
    "predictions = model.predict(x_train)"
   ]
  },
  {
   "cell_type": "code",
   "execution_count": null,
   "metadata": {},
   "outputs": [],
   "source": [
    "annotations.loc[annotations['mp3_path'].isin(test_set)].drop(columns=['mp3_path','Unnamed: 0']).columns.values[predictions[0] != 0]"
   ]
  },
  {
   "cell_type": "code",
   "execution_count": null,
   "metadata": {},
   "outputs": [],
   "source": [
    "accuracy_score(y_train, predictions)"
   ]
  }
 ],
 "metadata": {
  "kernelspec": {
   "display_name": "Python 3",
   "language": "python",
   "name": "python3"
  },
  "language_info": {
   "codemirror_mode": {
    "name": "ipython",
    "version": 3
   },
   "file_extension": ".py",
   "mimetype": "text/x-python",
   "name": "python",
   "nbconvert_exporter": "python",
   "pygments_lexer": "ipython3",
   "version": "3.6.4"
  }
 },
 "nbformat": 4,
 "nbformat_minor": 2
}
