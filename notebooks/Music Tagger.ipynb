{
 "cells": [
  {
   "cell_type": "code",
   "execution_count": 1,
   "metadata": {},
   "outputs": [
    {
     "name": "stderr",
     "output_type": "stream",
     "text": [
      "Using TensorFlow backend.\n"
     ]
    }
   ],
   "source": [
    "import keras\n",
    "import numpy as np\n",
    "import pandas as pd\n",
    "from tqdm import tqdm\n",
    "import os\n",
    "import matplotlib.pyplot as plt\n",
    "from sklearn.model_selection import train_test_split\n",
    "from scipy.io import wavfile\n",
    "\n",
    "from sklearn.metrics import accuracy_score, hamming_loss, zero_one_loss, auc\n",
    "\n",
    "from bokeh.plotting import figure, show\n",
    "from bokeh.io import output_notebook\n"
   ]
  },
  {
   "cell_type": "code",
   "execution_count": 2,
   "metadata": {},
   "outputs": [],
   "source": [
    "from keras.layers import Conv1D, MaxPool1D, Activation, Dense, Input, Flatten, BatchNormalization\n",
    "from keras.losses import binary_crossentropy\n",
    "from keras.utils import Sequence\n",
    "import keras.backend as K\n",
    "import tensorflow as tf"
   ]
  },
  {
   "cell_type": "markdown",
   "metadata": {},
   "source": [
    "# Prepare Training set"
   ]
  },
  {
   "cell_type": "code",
   "execution_count": 3,
   "metadata": {},
   "outputs": [],
   "source": [
    "annotations_path = '../data/MagnaTagATune/annotation_reduced.csv'\n",
    "annotations = pd.read_csv(annotations_path, sep='\\t')\n",
    "train_set, test_set = train_test_split(annotations['mp3_path'], train_size=0.05, test_size=0.01) \n",
    "\n",
    "#train_set= train_set.loc[train_set.str.len()<70]\n",
    "#test_set= test_set.loc[test_set.str.len()<70]"
   ]
  },
  {
   "cell_type": "code",
   "execution_count": 4,
   "metadata": {
    "scrolled": false
   },
   "outputs": [
    {
     "name": "stdout",
     "output_type": "stream",
     "text": [
      "Train set size: 1293 \n",
      "X dimension: 465984\n",
      "Y dimension: 40\n"
     ]
    }
   ],
   "source": [
    "train_set_paths = train_set.values\n",
    "train_set_labels = annotations.loc[annotations['mp3_path'].isin(train_set)].drop(columns=['mp3_path','Unnamed: 0']).values\n",
    "train_set_size = len(train_set_paths)\n",
    "print(\"Train set size: {} \".format(train_set_size))\n",
    "\n",
    "y_dimension = train_set_labels.shape[1]\n",
    "\n",
    "_, data = wavfile.read( '../data/MagnaTagATune/rawwav/' + annotations['mp3_path'][0][:-3]+ 'wav')\n",
    "x_dimension = len(data)\n",
    "\n",
    "print(\"X dimension: {}\\nY dimension: {}\".format(x_dimension, y_dimension))"
   ]
  },
  {
   "cell_type": "code",
   "execution_count": 18,
   "metadata": {},
   "outputs": [],
   "source": [
    "class MagnaTagATuneSequence(Sequence):\n",
    "\n",
    "    def __init__(self, train_set_paths, train_set_labels, batch_size):\n",
    "        self.paths, self.y = train_set_paths, train_set_labels\n",
    "        self.batch_size = batch_size\n",
    "\n",
    "    def __len__(self):\n",
    "        return int(np.ceil(len(self.paths) / float(self.batch_size)))\n",
    "\n",
    "    def __getitem__(self, idx):\n",
    "        batch_x_paths = self.paths[idx * self.batch_size:(idx + 1) * self.batch_size]\n",
    "        batch_y = self.y[idx * self.batch_size:(idx + 1) * self.batch_size]\n",
    "        batch_x = []\n",
    "        for value in batch_x_paths:\n",
    "            path = '../data/MagnaTagATune/rawwav/'+value[:-3]+'wav'\n",
    "            _, data = wavfile.read(path)\n",
    "            batch_x.append(data)\n",
    "        batch_x = np.array(batch_x)[:,:,np.newaxis]\n",
    "        return (batch_x,batch_y)\n",
    "\n",
    "def hamming_loss(y_true, y_pred):\n",
    "    op1 =  K.sum(K.cast(K.equal(y_true,K.round(y_pred)),dtype='float32'))\n",
    "    op2 =  K.sum(K.cast(K.equal(y_true,0),dtype='float32')) + K.sum(K.cast(K.equal(y_true,1),dtype='float32'))\n",
    "    return op1 / op2\n",
    "\n",
    "def ratio_wrong_over_correct_ones(y_true, y_pred):\n",
    "    op1 = K.sum(K.abs(K.cast(y_true - K.round(y_pred), dtype='float32')))\n",
    "    op2 = K.sum(K.cast(K.equal(y_true,1),dtype='float32'))\n",
    "    return op1/op2\n",
    "\n",
    "def ratio_correct_ones(y_true, y_pred):\n",
    "    op1 = K.sum(K.cast(K.equal(y_true + K.round(y_pred),2),dtype='float32'))\n",
    "    op2 = K.sum(K.cast(K.equal(y_true,1),dtype='float32'))\n",
    "    return op1/op2 \n",
    "    "
   ]
  },
  {
   "cell_type": "code",
   "execution_count": 19,
   "metadata": {},
   "outputs": [],
   "source": [
    "config = tf.ConfigProto()\n",
    "config.gpu_options.allow_growth = True\n",
    "session = tf.Session(config=config)\n",
    "keras.backend.set_session(session)\n",
    "\n",
    "model = keras.Sequential()\n",
    "\n",
    "model.add(Conv1D(filters=10, kernel_size=13, strides=7, input_shape=(x_dimension,1)))\n",
    "model.add(BatchNormalization())\n",
    "model.add(Activation('relu'))\n",
    "model.add(MaxPool1D(pool_size=3))\n",
    "\n",
    "model.add(Conv1D(filters=8, kernel_size=7, strides=3, input_shape=(x_dimension,1)))\n",
    "model.add(BatchNormalization())\n",
    "model.add(Activation('relu'))\n",
    "model.add(MaxPool1D(pool_size=3))\n",
    "\n",
    "model.add(Flatten())\n",
    "model.add(Dense(units=y_dimension, activation='sigmoid'))"
   ]
  },
  {
   "cell_type": "code",
   "execution_count": 20,
   "metadata": {},
   "outputs": [
    {
     "name": "stdout",
     "output_type": "stream",
     "text": [
      "_________________________________________________________________\n",
      "Layer (type)                 Output Shape              Param #   \n",
      "=================================================================\n",
      "conv1d_3 (Conv1D)            (None, 66568, 10)         140       \n",
      "_________________________________________________________________\n",
      "batch_normalization_3 (Batch (None, 66568, 10)         40        \n",
      "_________________________________________________________________\n",
      "activation_3 (Activation)    (None, 66568, 10)         0         \n",
      "_________________________________________________________________\n",
      "max_pooling1d_3 (MaxPooling1 (None, 22189, 10)         0         \n",
      "_________________________________________________________________\n",
      "conv1d_4 (Conv1D)            (None, 7395, 8)           568       \n",
      "_________________________________________________________________\n",
      "batch_normalization_4 (Batch (None, 7395, 8)           32        \n",
      "_________________________________________________________________\n",
      "activation_4 (Activation)    (None, 7395, 8)           0         \n",
      "_________________________________________________________________\n",
      "max_pooling1d_4 (MaxPooling1 (None, 2465, 8)           0         \n",
      "_________________________________________________________________\n",
      "flatten_2 (Flatten)          (None, 19720)             0         \n",
      "_________________________________________________________________\n",
      "dense_2 (Dense)              (None, 40)                788840    \n",
      "=================================================================\n",
      "Total params: 789,620\n",
      "Trainable params: 789,584\n",
      "Non-trainable params: 36\n",
      "_________________________________________________________________\n"
     ]
    }
   ],
   "source": [
    "model.summary()"
   ]
  },
  {
   "cell_type": "code",
   "execution_count": 21,
   "metadata": {},
   "outputs": [],
   "source": [
    "model.compile(optimizer='adam', loss='binary_crossentropy', metrics=[ratio_wrong_over_correct_ones, ratio_correct_ones])"
   ]
  },
  {
   "cell_type": "code",
   "execution_count": 22,
   "metadata": {
    "scrolled": true
   },
   "outputs": [
    {
     "name": "stdout",
     "output_type": "stream",
     "text": [
      "Epoch 1/1\n",
      "41/41 [==============================] - 24s 590ms/step - loss: 0.6253 - ratio_wrong_over_correct_ones: 1.3957 - ratio_correct_ones: 0.0579\n"
     ]
    },
    {
     "data": {
      "text/plain": [
       "<keras.callbacks.History at 0x7f4811357668>"
      ]
     },
     "execution_count": 22,
     "metadata": {},
     "output_type": "execute_result"
    }
   ],
   "source": [
    "batch_size = 32\n",
    "epochs = 1\n",
    "callbacks = [keras.callbacks.TensorBoard(log_dir='./logs', histogram_freq=0, batch_size=batch_size, write_graph=True,\n",
    "                                         write_grads=False, write_images=False, embeddings_freq=0, embeddings_layer_names=None, \n",
    "                                         embeddings_metadata=None)]\n",
    "\n",
    "\n",
    "model.fit_generator(MagnaTagATuneSequence(train_set_paths, train_set_labels, batch_size),\n",
    "                    epochs=epochs, callbacks = callbacks)\n",
    "#model.fit(x_train,y_train,epochs=10, batch_size=32, callbacks=callbacks)"
   ]
  },
  {
   "cell_type": "markdown",
   "metadata": {},
   "source": [
    "# Build test set"
   ]
  },
  {
   "cell_type": "code",
   "execution_count": null,
   "metadata": {},
   "outputs": [],
   "source": [
    "test_set_paths = test_set.values\n",
    "test_set_labels = annotations.loc[annotations['mp3_path'].isin(test_set)].drop(columns=['mp3_path','Unnamed: 0']).values\n",
    "test_set_size = len(test_set_paths)\n",
    "print(\"Test set size: {} \".format(test_set_size))"
   ]
  },
  {
   "cell_type": "code",
   "execution_count": null,
   "metadata": {},
   "outputs": [],
   "source": [
    "predictions = model.predict_generator(MagnaTagATuneSequence(train_set_paths, train_set, batch_size), verbose=1)"
   ]
  },
  {
   "cell_type": "code",
   "execution_count": null,
   "metadata": {},
   "outputs": [],
   "source": [
    "train_set_labels.s"
   ]
  },
  {
   "cell_type": "code",
   "execution_count": null,
   "metadata": {},
   "outputs": [],
   "source": [
    "import keras.backend as K\n",
    "acc_keras = np.mean(np.equal(train_set_labels, np.round(predictions)))\n",
    "print(\"Accuracy computed as Keras: {}\".format(acc_keras))"
   ]
  },
  {
   "cell_type": "code",
   "execution_count": null,
   "metadata": {},
   "outputs": [],
   "source": [
    "m1 = np.array([[1,0,1],\n",
    "               [0,1,1],\n",
    "               [1,0,0]])\n",
    "m2 = np.array([[1,0,0],\n",
    "               [1,1,0],\n",
    "               [1,0,1]])"
   ]
  },
  {
   "cell_type": "code",
   "execution_count": null,
   "metadata": {},
   "outputs": [],
   "source": [
    "hamming_loss(m1,m2)"
   ]
  },
  {
   "cell_type": "code",
   "execution_count": null,
   "metadata": {},
   "outputs": [],
   "source": [
    "np.sum(np.logical_and(m1==m2, np.equal(m2,1)))/ np.sum(m1)"
   ]
  },
  {
   "cell_type": "code",
   "execution_count": null,
   "metadata": {},
   "outputs": [],
   "source": [
    "np.sum(np.logical_and(m1==m2, np.equal(m2,1)))"
   ]
  },
  {
   "cell_type": "code",
   "execution_count": null,
   "metadata": {},
   "outputs": [],
   "source": [
    "m1 = tf.Variable([[1,0,1],\n",
    "               [0,1,1],\n",
    "               [1,0,0]],dtype='float32')\n",
    "\n",
    "m2 = tf.Variable([[1,0,1],\n",
    "               [0,1,1],\n",
    "               [1,0,1]], dtype='float32')\n",
    "def sign_accuracy(y_true, y_pred):\n",
    "    return K.mean(K.greater(y_true * y_pred, 0.), axis=-1)\n"
   ]
  },
  {
   "cell_type": "code",
   "execution_count": null,
   "metadata": {},
   "outputs": [],
   "source": [
    "acc = K.eval(hamming_loss(m1, m2))"
   ]
  },
  {
   "cell_type": "code",
   "execution_count": null,
   "metadata": {},
   "outputs": [],
   "source": [
    "acc"
   ]
  },
  {
   "cell_type": "code",
   "execution_count": null,
   "metadata": {},
   "outputs": [],
   "source": []
  }
 ],
 "metadata": {
  "kernelspec": {
   "display_name": "Python 3",
   "language": "python",
   "name": "python3"
  },
  "language_info": {
   "codemirror_mode": {
    "name": "ipython",
    "version": 3
   },
   "file_extension": ".py",
   "mimetype": "text/x-python",
   "name": "python",
   "nbconvert_exporter": "python",
   "pygments_lexer": "ipython3",
   "version": "3.6.4"
  }
 },
 "nbformat": 4,
 "nbformat_minor": 2
}
