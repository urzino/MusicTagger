{
 "cells": [
  {
   "cell_type": "code",
   "execution_count": 1,
   "metadata": {},
   "outputs": [
    {
     "name": "stderr",
     "output_type": "stream",
     "text": [
      "Using TensorFlow backend.\n"
     ]
    }
   ],
   "source": [
    "import keras\n",
    "import numpy as np\n",
    "import pandas as pd\n",
    "from tqdm import tqdm\n",
    "import os\n",
    "import matplotlib.pyplot as plt\n",
    "from sklearn.model_selection import train_test_split\n",
    "from scipy.io import wavfile"
   ]
  },
  {
   "cell_type": "code",
   "execution_count": 2,
   "metadata": {},
   "outputs": [],
   "source": [
    "from keras.layers import Conv1D, MaxPool1D, Activation, Dense, Input, Flatten\n",
    "import tensorflow as tf"
   ]
  },
  {
   "cell_type": "markdown",
   "metadata": {},
   "source": [
    "# Prepare Training set"
   ]
  },
  {
   "cell_type": "code",
   "execution_count": 16,
   "metadata": {},
   "outputs": [],
   "source": [
    "annotations_path = '../data/MagnaTagATune/annotation_reduced.csv'\n",
    "annotations = pd.read_csv(annotations_path, sep='\\t')\n",
    "train_set, test_set = train_test_split(annotations['mp3_path'], train_size=0.005, test_size=0.001) "
   ]
  },
  {
   "cell_type": "code",
   "execution_count": 19,
   "metadata": {},
   "outputs": [
    {
     "name": "stderr",
     "output_type": "stream",
     "text": [
      "100%|██████████| 129/129 [00:00<00:00, 1707.12it/s]\n",
      "100%|██████████| 26/26 [00:00<00:00, 2146.65it/s]"
     ]
    },
    {
     "name": "stdout",
     "output_type": "stream",
     "text": [
      "X train shape: (129, 465984, 1)\n",
      "X test shape: (26, 465984, 1)\n"
     ]
    },
    {
     "name": "stderr",
     "output_type": "stream",
     "text": [
      "\n"
     ]
    }
   ],
   "source": [
    "x_train = []\n",
    "x_test = []\n",
    "for value in tqdm(train_set):\n",
    "    path = '../data/MagnaTagATune/rawwav/'+value[:-3]+'wav'\n",
    "    _, data = wavfile.read(path)\n",
    "    x_train.append(data)\n",
    "x_train = np.array(x_train)[:,:,np.newaxis]\n",
    "\n",
    "for value in tqdm(test_set):\n",
    "    path = '../data/MagnaTagATune/rawwav/'+value[:-3]+'wav'\n",
    "    _, data = wavfile.read(path)\n",
    "    x_test.append(data)\n",
    "x_test = np.array(x_test)[:,:,np.newaxis]\n",
    "\n",
    "print(\"X train shape:\",x_train.shape)\n",
    "print(\"X test shape:\",x_test.shape)"
   ]
  },
  {
   "cell_type": "code",
   "execution_count": 21,
   "metadata": {
    "scrolled": true
   },
   "outputs": [
    {
     "name": "stdout",
     "output_type": "stream",
     "text": [
      "Y train shape: (129, 40)\n",
      "Y test shape: (26, 40)\n"
     ]
    }
   ],
   "source": [
    "y_train = annotations.loc[annotations['mp3_path'].isin(train_set)].drop(columns=['mp3_path','Unnamed: 0']).values\n",
    "y_test = annotations.loc[annotations['mp3_path'].isin(test_set)].drop(columns=['mp3_path','Unnamed: 0']).values\n",
    "print(\"Y train shape:\",y_train.shape)\n",
    "print(\"Y test shape:\",y_test.shape)"
   ]
  },
  {
   "cell_type": "code",
   "execution_count": 22,
   "metadata": {},
   "outputs": [],
   "source": [
    "config = tf.ConfigProto(device_count={'GPU':0})\n",
    "#config.gpu_options.allow_growth = True\n",
    "session = tf.Session(config=config)\n",
    "keras.backend.set_session(session)\n",
    "\n",
    "model = keras.Sequential()\n",
    "model.add(Conv1D(filters=10, kernel_size=13, strides=6, input_shape=(x_train.shape[1],1)))\n",
    "model.add(MaxPool1D(pool_size=3)) #\n",
    "model.add(Conv1D(filters=4, kernel_size=3, strides=1))\n",
    "model.add(MaxPool1D(pool_size=2))\n",
    "model.add(Flatten())\n",
    "model.add(Dense(units=y_train.shape[1], activation='sigmoid'))"
   ]
  },
  {
   "cell_type": "code",
   "execution_count": 23,
   "metadata": {},
   "outputs": [
    {
     "name": "stdout",
     "output_type": "stream",
     "text": [
      "_________________________________________________________________\n",
      "Layer (type)                 Output Shape              Param #   \n",
      "=================================================================\n",
      "conv1d_5 (Conv1D)            (None, 77662, 10)         140       \n",
      "_________________________________________________________________\n",
      "max_pooling1d_5 (MaxPooling1 (None, 25887, 10)         0         \n",
      "_________________________________________________________________\n",
      "conv1d_6 (Conv1D)            (None, 25885, 4)          124       \n",
      "_________________________________________________________________\n",
      "max_pooling1d_6 (MaxPooling1 (None, 12942, 4)          0         \n",
      "_________________________________________________________________\n",
      "flatten_3 (Flatten)          (None, 51768)             0         \n",
      "_________________________________________________________________\n",
      "dense_3 (Dense)              (None, 40)                2070760   \n",
      "=================================================================\n",
      "Total params: 2,071,024\n",
      "Trainable params: 2,071,024\n",
      "Non-trainable params: 0\n",
      "_________________________________________________________________\n"
     ]
    }
   ],
   "source": [
    "model.summary()"
   ]
  },
  {
   "cell_type": "code",
   "execution_count": 24,
   "metadata": {},
   "outputs": [],
   "source": [
    "model.compile(optimizer='adam', loss='binary_crossentropy')"
   ]
  },
  {
   "cell_type": "code",
   "execution_count": 25,
   "metadata": {},
   "outputs": [
    {
     "name": "stdout",
     "output_type": "stream",
     "text": [
      "Epoch 1/10\n",
      "129/129 [==============================] - 3s 27ms/step - loss: 5.7567\n",
      "Epoch 2/10\n",
      "129/129 [==============================] - 3s 25ms/step - loss: 3.5617\n",
      "Epoch 3/10\n",
      "129/129 [==============================] - 3s 25ms/step - loss: 2.9657\n",
      "Epoch 4/10\n",
      "129/129 [==============================] - 3s 25ms/step - loss: 2.5486\n",
      "Epoch 5/10\n",
      "129/129 [==============================] - 3s 25ms/step - loss: 2.2568\n",
      "Epoch 6/10\n",
      "129/129 [==============================] - 3s 25ms/step - loss: 2.0482\n",
      "Epoch 7/10\n",
      "129/129 [==============================] - 3s 25ms/step - loss: 2.0451\n",
      "Epoch 8/10\n",
      "129/129 [==============================] - 3s 26ms/step - loss: 2.0248\n",
      "Epoch 9/10\n",
      "129/129 [==============================] - 3s 27ms/step - loss: 2.0049\n",
      "Epoch 10/10\n",
      "129/129 [==============================] - 3s 25ms/step - loss: 1.9802\n"
     ]
    },
    {
     "data": {
      "text/plain": [
       "<keras.callbacks.History at 0x7f4f4ece57f0>"
      ]
     },
     "execution_count": 25,
     "metadata": {},
     "output_type": "execute_result"
    }
   ],
   "source": [
    "model.fit(x_train,y_train,epochs=10)"
   ]
  },
  {
   "cell_type": "code",
   "execution_count": 27,
   "metadata": {},
   "outputs": [],
   "source": [
    "predictions = model.predict(x_train)"
   ]
  },
  {
   "cell_type": "code",
   "execution_count": null,
   "metadata": {},
   "outputs": [],
   "source": []
  }
 ],
 "metadata": {
  "kernelspec": {
   "display_name": "Python 3",
   "language": "python",
   "name": "python3"
  },
  "language_info": {
   "codemirror_mode": {
    "name": "ipython",
    "version": 3
   },
   "file_extension": ".py",
   "mimetype": "text/x-python",
   "name": "python",
   "nbconvert_exporter": "python",
   "pygments_lexer": "ipython3",
   "version": "3.6.4"
  }
 },
 "nbformat": 4,
 "nbformat_minor": 2
}
