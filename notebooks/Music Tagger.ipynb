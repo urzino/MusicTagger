{
 "cells": [
  {
   "cell_type": "code",
   "execution_count": null,
   "metadata": {},
   "outputs": [],
   "source": [
    "import keras\n",
    "import numpy as np\n",
    "import pandas as pd\n",
    "from tqdm import tqdm\n",
    "import os\n",
    "import matplotlib.pyplot as plt\n",
    "from sklearn.model_selection import train_test_split\n",
    "from scipy.io import wavfile"
   ]
  },
  {
   "cell_type": "code",
   "execution_count": null,
   "metadata": {},
   "outputs": [],
   "source": [
    "from keras.layers import Conv1D, MaxPool1D, Activation, Dense, Input\n",
    "import tensorflow as tf"
   ]
  },
  {
   "cell_type": "markdown",
   "metadata": {},
   "source": [
    "# Prepare Training set"
   ]
  },
  {
   "cell_type": "code",
   "execution_count": null,
   "metadata": {},
   "outputs": [],
   "source": [
    "annotations_path = '../data/MagnaTagATune/annotation_reduced.csv'\n",
    "annotations = pd.read_csv(annotations_path, sep='\\t')\n",
    "train_set, _ = train_test_split(annotations['mp3_path'], train_size=0.005, test_size=0.001) "
   ]
  },
  {
   "cell_type": "code",
   "execution_count": null,
   "metadata": {},
   "outputs": [],
   "source": [
    "x_train = []\n",
    "for value in tqdm(train_set):\n",
    "    path = '../data/MagnaTagATune/rawwav/'+value[:-3]+'wav'\n",
    "    _, data = wavfile.read(path)\n",
    "    x_train.append(data)\n",
    "x_train = np.array(x_train)[:,:,np.newaxis]\n",
    "print(\"X train shape:\",x_train.shape)"
   ]
  },
  {
   "cell_type": "code",
   "execution_count": null,
   "metadata": {
    "scrolled": true
   },
   "outputs": [],
   "source": [
    "y_train = annotations.loc[annotations['mp3_path'].isin(train_set)].drop(columns=['mp3_path','Unnamed: 0'])\n",
    "y_train = y_train.values[:,np.newaxis,:]\n",
    "print(\"Y train shape:\",y_train.shape)"
   ]
  },
  {
   "cell_type": "code",
   "execution_count": null,
   "metadata": {},
   "outputs": [],
   "source": [
    "config = tf.ConfigProto()\n",
    "config.gpu_options.allow_growth = True\n",
    "session = tf.Session(config=config)\n",
    "keras.backend.set_session(session)\n",
    "\n",
    "model = keras.Sequential()\n",
    "model.add(Conv1D(filters=128, kernel_size=13, strides=13, input_shape=(x_train.shape[1],1)))\n",
    "model.add(MaxPool1D(pool_size=13)) #\n",
    "model.add(Conv1D(filters=256, kernel_size=7, strides=5))\n",
    "model.add(MaxPool1D(pool_size=7))\n",
    "model.add(Conv1D(filters=512, kernel_size=5, strides=3))\n",
    "model.add(MaxPool1D(pool_size=5))\n",
    "model.add(Conv1D(filters=512, kernel_size=3, strides=1))\n",
    "model.add(MaxPool1D(pool_size=3))\n",
    "model.add(Dense(units=y_train.shape[2], activation='sigmoid'))"
   ]
  },
  {
   "cell_type": "code",
   "execution_count": null,
   "metadata": {},
   "outputs": [],
   "source": [
    "model.summary()"
   ]
  },
  {
   "cell_type": "code",
   "execution_count": null,
   "metadata": {},
   "outputs": [],
   "source": [
    "model.compile(optimizer='sgd', loss='binary_crossentropy')"
   ]
  },
  {
   "cell_type": "code",
   "execution_count": null,
   "metadata": {},
   "outputs": [],
   "source": [
    "model.fit(x_train,y_train,epochs=1)"
   ]
  },
  {
   "cell_type": "code",
   "execution_count": null,
   "metadata": {},
   "outputs": [],
   "source": []
  },
  {
   "cell_type": "code",
   "execution_count": null,
   "metadata": {},
   "outputs": [],
   "source": []
  }
 ],
 "metadata": {
  "kernelspec": {
   "display_name": "Python 3",
   "language": "python",
   "name": "python3"
  },
  "language_info": {
   "codemirror_mode": {
    "name": "ipython",
    "version": 3
   },
   "file_extension": ".py",
   "mimetype": "text/x-python",
   "name": "python",
   "nbconvert_exporter": "python",
   "pygments_lexer": "ipython3",
   "version": "3.6.4"
  }
 },
 "nbformat": 4,
 "nbformat_minor": 2
}
