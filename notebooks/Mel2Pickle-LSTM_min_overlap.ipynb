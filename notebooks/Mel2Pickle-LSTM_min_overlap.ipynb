{
 "cells": [
  {
   "cell_type": "code",
   "execution_count": 1,
   "metadata": {},
   "outputs": [],
   "source": [
    "import pickle as pk\n",
    "import pandas as pd\n",
    "import os\n",
    "from scipy.io import wavfile\n",
    "import librosa\n",
    "import numpy as np\n",
    "from tqdm import tqdm"
   ]
  },
  {
   "cell_type": "code",
   "execution_count": 2,
   "metadata": {},
   "outputs": [],
   "source": [
    "base_dir = '../data/MagnaTagATune/'\n",
    "annotation_fn = 'annotations_final.csv'\n",
    "annotation_path = base_dir + annotation_fn\n",
    "\n",
    "annotations = pd.read_csv(annotation_path, sep='\\t')"
   ]
  },
  {
   "cell_type": "markdown",
   "metadata": {},
   "source": [
    "#### Parameters"
   ]
  },
  {
   "cell_type": "code",
   "execution_count": 3,
   "metadata": {},
   "outputs": [],
   "source": [
    "sample_rate = 16000\n",
    "n_fft = 256\n",
    "hop_length = n_fft - 0*int(n_fft/32) \n",
    "\n",
    "output_dir = '../data/MagnaTagATune/MEL_default_min_overlap/'"
   ]
  },
  {
   "cell_type": "code",
   "execution_count": 4,
   "metadata": {},
   "outputs": [
    {
     "name": "stderr",
     "output_type": "stream",
     "text": [
      " 63%|██████▎   | 16256/25863 [11:15<06:39, 24.05it/s]"
     ]
    },
    {
     "name": "stdout",
     "output_type": "stream",
     "text": [
      "6/norine_braun-now_and_zen-08-gently-117-146.mp3\n"
     ]
    },
    {
     "name": "stderr",
     "output_type": "stream",
     "text": [
      " 96%|█████████▌| 24872/25863 [17:05<00:40, 24.26it/s]"
     ]
    },
    {
     "name": "stdout",
     "output_type": "stream",
     "text": [
      "8/jacob_heringman-josquin_des_prez_lute_settings-19-gintzler__pater_noster-204-233.mp3\n"
     ]
    },
    {
     "name": "stderr",
     "output_type": "stream",
     "text": [
      " 99%|█████████▉| 25549/25863 [17:36<00:12, 24.19it/s]"
     ]
    },
    {
     "name": "stdout",
     "output_type": "stream",
     "text": [
      "9/american_baroque-dances_and_suites_of_rameau_and_couperin-25-le_petit_rien_xiveme_ordre_couperin-88-117.mp3\n"
     ]
    },
    {
     "name": "stderr",
     "output_type": "stream",
     "text": [
      "100%|██████████| 25863/25863 [17:50<00:00, 24.16it/s]\n"
     ]
    }
   ],
   "source": [
    "for value in tqdm(annotations['mp3_path']):\n",
    "    path = '../data/MagnaTagATune/rawwav_2/'+value[:-3]+'wav'\n",
    "    if not os.path.exists(output_dir + value[:-3]+'p'):\n",
    "        try:\n",
    "            _, data = wavfile.read(path)\n",
    "            S = librosa.power_to_db(librosa.feature.melspectrogram(np.float32(data), sr = sample_rate))\n",
    "            if not os.path.exists(output_dir + value[0:1]):\n",
    "                os.makedirs(output_dir + value[0:1])\n",
    "\n",
    "            pk.dump(S, open( output_dir + value[:-3]+'p', 'wb' ))    \n",
    "        except:\n",
    "            print(value)"
   ]
  },
  {
   "cell_type": "code",
   "execution_count": 5,
   "metadata": {},
   "outputs": [
    {
     "name": "stderr",
     "output_type": "stream",
     "text": [
      " 65%|██████▍   | 16688/25863 [00:05<00:02, 3241.04it/s]"
     ]
    },
    {
     "name": "stdout",
     "output_type": "stream",
     "text": [
      "6/norine_braun-now_and_zen-08-gently-117-146.mp3\n"
     ]
    },
    {
     "name": "stderr",
     "output_type": "stream",
     "text": [
      " 98%|█████████▊| 25426/25863 [00:07<00:00, 3269.42it/s]"
     ]
    },
    {
     "name": "stdout",
     "output_type": "stream",
     "text": [
      "8/jacob_heringman-josquin_des_prez_lute_settings-19-gintzler__pater_noster-204-233.mp3\n",
      "9/american_baroque-dances_and_suites_of_rameau_and_couperin-25-le_petit_rien_xiveme_ordre_couperin-88-117.mp3\n"
     ]
    },
    {
     "name": "stderr",
     "output_type": "stream",
     "text": [
      "100%|██████████| 25863/25863 [00:07<00:00, 3270.79it/s]\n"
     ]
    }
   ],
   "source": [
    "for value in tqdm(annotations['mp3_path']):\n",
    "    path = output_dir+value[:-3]+'p'\n",
    "    try:\n",
    "        S = pk.load(open(path,'rb'))\n",
    "    except:\n",
    "        path = '../data/MagnaTagATune/rawwav_2/'+value[:-3]+'wav'\n",
    "        try:\n",
    "            _, data = wavfile.read(path)\n",
    "            S = librosa.power_to_db(librosa.feature.melspectrogram(np.float32(data), sr = sample_rate))\n",
    "            if not os.path.exists(output_dir + value[0:1]):\n",
    "                os.makedirs(output_dir + value[0:1])\n",
    "\n",
    "            pk.dump(S, open( output_dir + value[:-3]+'p', 'wb' )) \n",
    "        except:\n",
    "            print(value)"
   ]
  },
  {
   "cell_type": "code",
   "execution_count": null,
   "metadata": {},
   "outputs": [],
   "source": []
  }
 ],
 "metadata": {
  "kernelspec": {
   "display_name": "musictagger",
   "language": "python",
   "name": "musictagger"
  },
  "language_info": {
   "codemirror_mode": {
    "name": "ipython",
    "version": 3
   },
   "file_extension": ".py",
   "mimetype": "text/x-python",
   "name": "python",
   "nbconvert_exporter": "python",
   "pygments_lexer": "ipython3",
   "version": "3.6.5"
  }
 },
 "nbformat": 4,
 "nbformat_minor": 2
}
