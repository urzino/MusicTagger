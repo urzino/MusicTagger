{
 "cells": [
  {
   "cell_type": "code",
   "execution_count": 1,
   "metadata": {},
   "outputs": [],
   "source": [
    "import pickle as pk\n",
    "import pandas as pd\n",
    "import os\n",
    "from scipy.io import wavfile\n",
    "import librosa\n",
    "import numpy as np\n",
    "from tqdm import tqdm"
   ]
  },
  {
   "cell_type": "code",
   "execution_count": null,
   "metadata": {},
   "outputs": [],
   "source": [
    "base_dir = '../data/MagnaTagATune/'\n",
    "annotation_fn = 'annotations_final.csv'\n",
    "annotation_path = base_dir + annotation_fn\n",
    "\n",
    "annotations = pd.read_csv(annotation_path, sep='\\t')"
   ]
  },
  {
   "cell_type": "markdown",
   "metadata": {},
   "source": [
    "#### Parameters"
   ]
  },
  {
   "cell_type": "code",
   "execution_count": null,
   "metadata": {},
   "outputs": [],
   "source": [
    "sample_rate = 16000\n",
    "n_fft = 2048\n",
    "hop_length = 1024 \n",
    "\n",
    "output_dir = '../data/MagnaTagATune/MEL_default_hop/'"
   ]
  },
  {
   "cell_type": "code",
   "execution_count": null,
   "metadata": {},
   "outputs": [],
   "source": [
    "for value in tqdm(annotations['mp3_path']):\n",
    "    path = '../data/MagnaTagATune/rawwav_2/'+value[:-3]+'wav'\n",
    "    if not os.path.exists(output_dir + value[:-3]+'p'):\n",
    "        try:\n",
    "            _, data = wavfile.read(path)\n",
    "            S = librosa.power_to_db(librosa.feature.melspectrogram(np.float32(data), sr = sample_rate))\n",
    "            if not os.path.exists(output_dir + value[0:1]):\n",
    "                os.makedirs(output_dir + value[0:1])\n",
    "\n",
    "            pk.dump(S, open( output_dir + value[:-3]+'p', 'wb' ))    \n",
    "        except:\n",
    "            print(value)"
   ]
  },
  {
   "cell_type": "code",
   "execution_count": null,
   "metadata": {},
   "outputs": [],
   "source": [
    "for value in tqdm(annotations['mp3_path']):\n",
    "    path = output_dir+value[:-3]+'p'\n",
    "    try:\n",
    "        S = pk.load(open(path,'rb'))\n",
    "    except:\n",
    "        path = '../data/MagnaTagATune/rawwav_2/'+value[:-3]+'wav'\n",
    "        try:\n",
    "            _, data = wavfile.read(path)\n",
    "            S = librosa.power_to_db(librosa.feature.melspectrogram(np.float32(data), sr = sample_rate))\n",
    "            if not os.path.exists(output_dir + value[0:1]):\n",
    "                os.makedirs(output_dir + value[0:1])\n",
    "\n",
    "            pk.dump(S, open( output_dir + value[:-3]+'p', 'wb' )) \n",
    "        except:\n",
    "            print(value)"
   ]
  }
 ],
 "metadata": {
  "kernelspec": {
   "display_name": "musictagger",
   "language": "python",
   "name": "musictagger"
  },
  "language_info": {
   "codemirror_mode": {
    "name": "ipython",
    "version": 3
   },
   "file_extension": ".py",
   "mimetype": "text/x-python",
   "name": "python",
   "nbconvert_exporter": "python",
   "pygments_lexer": "ipython3",
   "version": "3.6.5"
  }
 },
 "nbformat": 4,
 "nbformat_minor": 2
}
