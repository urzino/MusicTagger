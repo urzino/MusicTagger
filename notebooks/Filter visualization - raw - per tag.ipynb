{
 "cells": [
  {
   "cell_type": "code",
   "execution_count": 1,
   "metadata": {},
   "outputs": [
    {
     "name": "stderr",
     "output_type": "stream",
     "text": [
      "Using TensorFlow backend.\n"
     ]
    }
   ],
   "source": [
    "import keras\n",
    "import numpy as np\n",
    "import pandas as pd\n",
    "from tqdm import tqdm\n",
    "import os\n",
    "\n",
    "import matplotlib.pyplot as plt\n",
    "import librosa\n",
    "import librosa.display\n",
    "\n",
    "\n",
    "\n",
    "from bokeh.plotting import figure, show\n",
    "from bokeh.io import output_notebook\n",
    "\n",
    "from keras.layers import Conv2D, MaxPool2D, Activation, Dense, Input, Flatten, BatchNormalization, Dropout\n",
    "from keras.losses import binary_crossentropy\n",
    "from keras.optimizers import SGD\n",
    "from keras.utils import Sequence\n",
    "import keras.backend as K\n",
    "\n",
    "from scipy.io import wavfile\n",
    "from scipy.fftpack import fft\n",
    "\n",
    "from sklearn.model_selection import train_test_split\n",
    "\n",
    "import time\n",
    "\n",
    "from pylab import rcParams\n",
    "\n",
    "%matplotlib inline"
   ]
  },
  {
   "cell_type": "code",
   "execution_count": 2,
   "metadata": {},
   "outputs": [],
   "source": [
    "checkpoint_dir = './checkpoints_RAW/'\n",
    "\n",
    "def find_best_checkpoint(prev_chkpts):\n",
    "    best_ratio = np.inf\n",
    "    best_chkpt = ''\n",
    "    best_epoch = 0\n",
    "    for chkpt in prev_chkpts:\n",
    "        epoch = int(chkpt[8:11])\n",
    "        ratio = float(chkpt[12:19])\n",
    "        \n",
    "        if ratio < best_ratio:\n",
    "            best_ratio = ratio\n",
    "            best_chkpt = chkpt\n",
    "            best_epoch = epoch\n",
    "    print('\\n starting from model {} \\n'.format(best_chkpt))\n",
    "    return best_chkpt, best_epoch"
   ]
  },
  {
   "cell_type": "code",
   "execution_count": 3,
   "metadata": {},
   "outputs": [
    {
     "name": "stdout",
     "output_type": "stream",
     "text": [
      "\n",
      " starting from model weights-031-0.13050.hdf5 \n",
      "\n"
     ]
    },
    {
     "name": "stderr",
     "output_type": "stream",
     "text": [
      "/home/matteo/anaconda3/envs/NNs/lib/python3.6/site-packages/keras/engine/saving.py:270: UserWarning: No training configuration found in save file: the model was *not* compiled. Compile it manually.\n",
      "  warnings.warn('No training configuration found in save file: '\n"
     ]
    }
   ],
   "source": [
    "previous_checkpoints = os.listdir(checkpoint_dir)\n",
    "best_checkpoint, best_epoch = find_best_checkpoint(previous_checkpoints)\n",
    "#model.load_weights(checkpoint_dir + best_checkpoint)\n",
    "model = keras.models.load_model(checkpoint_dir + best_checkpoint)"
   ]
  },
  {
   "cell_type": "code",
   "execution_count": 4,
   "metadata": {},
   "outputs": [
    {
     "name": "stdout",
     "output_type": "stream",
     "text": [
      "_________________________________________________________________\n",
      "Layer (type)                 Output Shape              Param #   \n",
      "=================================================================\n",
      "conv1d_1 (Conv1D)            (None, 155328, 128)       512       \n",
      "_________________________________________________________________\n",
      "batch_normalization_1 (Batch (None, 155328, 128)       512       \n",
      "_________________________________________________________________\n",
      "activation_1 (Activation)    (None, 155328, 128)       0         \n",
      "_________________________________________________________________\n",
      "conv1d_2 (Conv1D)            (None, 155328, 128)       49280     \n",
      "_________________________________________________________________\n",
      "batch_normalization_2 (Batch (None, 155328, 128)       512       \n",
      "_________________________________________________________________\n",
      "activation_2 (Activation)    (None, 155328, 128)       0         \n",
      "_________________________________________________________________\n",
      "max_pooling1d_1 (MaxPooling1 (None, 51776, 128)        0         \n",
      "_________________________________________________________________\n",
      "conv1d_3 (Conv1D)            (None, 51776, 256)        98560     \n",
      "_________________________________________________________________\n",
      "batch_normalization_3 (Batch (None, 51776, 256)        1024      \n",
      "_________________________________________________________________\n",
      "activation_3 (Activation)    (None, 51776, 256)        0         \n",
      "_________________________________________________________________\n",
      "max_pooling1d_2 (MaxPooling1 (None, 17258, 256)        0         \n",
      "_________________________________________________________________\n",
      "conv1d_4 (Conv1D)            (None, 17258, 256)        196864    \n",
      "_________________________________________________________________\n",
      "batch_normalization_4 (Batch (None, 17258, 256)        1024      \n",
      "_________________________________________________________________\n",
      "activation_4 (Activation)    (None, 17258, 256)        0         \n",
      "_________________________________________________________________\n",
      "max_pooling1d_3 (MaxPooling1 (None, 5752, 256)         0         \n",
      "_________________________________________________________________\n",
      "conv1d_5 (Conv1D)            (None, 5752, 256)         196864    \n",
      "_________________________________________________________________\n",
      "batch_normalization_5 (Batch (None, 5752, 256)         1024      \n",
      "_________________________________________________________________\n",
      "activation_5 (Activation)    (None, 5752, 256)         0         \n",
      "_________________________________________________________________\n",
      "max_pooling1d_4 (MaxPooling1 (None, 1917, 256)         0         \n",
      "_________________________________________________________________\n",
      "conv1d_6 (Conv1D)            (None, 1917, 256)         196864    \n",
      "_________________________________________________________________\n",
      "batch_normalization_6 (Batch (None, 1917, 256)         1024      \n",
      "_________________________________________________________________\n",
      "activation_6 (Activation)    (None, 1917, 256)         0         \n",
      "_________________________________________________________________\n",
      "max_pooling1d_5 (MaxPooling1 (None, 639, 256)          0         \n",
      "_________________________________________________________________\n",
      "conv1d_7 (Conv1D)            (None, 639, 256)          196864    \n",
      "_________________________________________________________________\n",
      "batch_normalization_7 (Batch (None, 639, 256)          1024      \n",
      "_________________________________________________________________\n",
      "activation_7 (Activation)    (None, 639, 256)          0         \n",
      "_________________________________________________________________\n",
      "max_pooling1d_6 (MaxPooling1 (None, 213, 256)          0         \n",
      "_________________________________________________________________\n",
      "conv1d_8 (Conv1D)            (None, 213, 256)          196864    \n",
      "_________________________________________________________________\n",
      "batch_normalization_8 (Batch (None, 213, 256)          1024      \n",
      "_________________________________________________________________\n",
      "activation_8 (Activation)    (None, 213, 256)          0         \n",
      "_________________________________________________________________\n",
      "max_pooling1d_7 (MaxPooling1 (None, 71, 256)           0         \n",
      "_________________________________________________________________\n",
      "conv1d_9 (Conv1D)            (None, 71, 512)           393728    \n",
      "_________________________________________________________________\n",
      "batch_normalization_9 (Batch (None, 71, 512)           2048      \n",
      "_________________________________________________________________\n",
      "activation_9 (Activation)    (None, 71, 512)           0         \n",
      "_________________________________________________________________\n",
      "max_pooling1d_8 (MaxPooling1 (None, 23, 512)           0         \n",
      "_________________________________________________________________\n",
      "dropout_1 (Dropout)          (None, 23, 512)           0         \n",
      "_________________________________________________________________\n",
      "flatten_1 (Flatten)          (None, 11776)             0         \n",
      "_________________________________________________________________\n",
      "dense_1 (Dense)              (None, 50)                588850    \n",
      "=================================================================\n",
      "Total params: 2,124,466\n",
      "Trainable params: 2,119,858\n",
      "Non-trainable params: 4,608\n",
      "_________________________________________________________________\n"
     ]
    }
   ],
   "source": [
    "model.summary()"
   ]
  },
  {
   "cell_type": "code",
   "execution_count": 5,
   "metadata": {},
   "outputs": [],
   "source": [
    "def normalize(x):\n",
    "    # utility function to normalize a tensor by its L2 norm\n",
    "    return x / (K.sqrt(K.mean(K.square(x))) + K.epsilon())"
   ]
  },
  {
   "cell_type": "code",
   "execution_count": 6,
   "metadata": {},
   "outputs": [
    {
     "name": "stdout",
     "output_type": "stream",
     "text": [
      "Complete Train set size: 22400\n",
      "Test set size: 3460 \n",
      "\n",
      "Train set size: 20480\n",
      "Validation set size: 1920 \n",
      "\n",
      "X dimension: 465984\n",
      "Y dimension: 50 \n",
      "\n"
     ]
    }
   ],
   "source": [
    "annotations_path = '../data/MagnaTagATune/annotation_reduced_50.csv'\n",
    "dataset_dir = '../data/MagnaTagATune/rawwav_2/'\n",
    "\n",
    "annotations = pd.read_csv(annotations_path, sep='\\t')\n",
    "\n",
    "\n",
    "tot_t_size = 0.866203\n",
    "tot_train_set, test_set = train_test_split(annotations, train_size=tot_t_size, test_size=(1-tot_t_size), random_state=42) \n",
    "\n",
    "print(\"Complete Train set size: {}\".format(tot_train_set.shape[0]))\n",
    "print(\"Test set size: {} \\n\".format(test_set.shape[0]))\n",
    "\n",
    "t_size = 0.91429\n",
    "train_set, val_set = train_test_split(tot_train_set, train_size=t_size, test_size=(1-t_size), random_state=42) \n",
    "\n",
    "print(\"Train set size: {}\".format(train_set.shape[0]))\n",
    "print(\"Validation set size: {} \\n\".format(val_set.shape[0]))\n",
    "\n",
    "train_set_paths = train_set['mp3_path'].values\n",
    "train_set_labels = train_set.drop(columns=['mp3_path','Unnamed: 0']).values\n",
    "\n",
    "y_dimension = train_set_labels.shape[1]\n",
    "_, data = wavfile.read( dataset_dir + annotations['mp3_path'][0][:-3]+ 'wav')\n",
    "x_dimension = len(data)\n",
    "\n",
    "print(\"X dimension: {}\\nY dimension: {} \\n\".format(x_dimension, y_dimension))\n",
    "\n",
    "   \n",
    "val_set_paths = val_set['mp3_path'].values\n",
    "val_set_labels = val_set.drop(columns=['mp3_path','Unnamed: 0']).values\n",
    "    "
   ]
  },
  {
   "cell_type": "code",
   "execution_count": 7,
   "metadata": {},
   "outputs": [],
   "source": [
    "class MagnaTagATuneSequence(Sequence):\n",
    "\n",
    "    def __init__(self, train_set_paths, train_set_labels, batch_size):\n",
    "        self.paths, self.y = train_set_paths, train_set_labels\n",
    "        self.batch_size = batch_size\n",
    "\n",
    "    def __len__(self):\n",
    "        return int(np.ceil(len(self.paths) / float(self.batch_size)))\n",
    "\n",
    "    def __getitem__(self, idx):\n",
    "        batch_x_paths = self.paths[idx * self.batch_size:(idx + 1) * self.batch_size]\n",
    "        batch_y = self.y[idx * self.batch_size:(idx + 1) * self.batch_size]\n",
    "        batch_x = []\n",
    "        for value in batch_x_paths:\n",
    "            path = dataset_dir + value[:-3]+'wav'\n",
    "            _, data = wavfile.read(path)\n",
    "            batch_x.append(data)\n",
    "        batch_x = np.array(batch_x)[:,:,np.newaxis]        \n",
    "        return (batch_x,batch_y)    "
   ]
  },
  {
   "cell_type": "code",
   "execution_count": 10,
   "metadata": {},
   "outputs": [
    {
     "data": {
      "text/plain": [
       "(20480, 50)"
      ]
     },
     "execution_count": 10,
     "metadata": {},
     "output_type": "execute_result"
    }
   ],
   "source": [
    "import pickle as pk\n",
    "y_pred = pk.load(open('y_train_pred_raw.p','rb'))\n",
    "y_pred.shape"
   ]
  },
  {
   "cell_type": "code",
   "execution_count": 68,
   "metadata": {},
   "outputs": [],
   "source": [
    "# get the symbolic outputs of each \"key\" layer (we gave them unique names).\n",
    "layer_dict = dict([(layer.name, layer) for layer in model.layers[0:] if 'activation' in layer.name])\n",
    "layer_dict\n",
    "\n",
    "conv_layers = [layer.name for layer in model.layers if 'conv' in layer.name]\n",
    "conv_layers\n",
    "\n",
    "output_conv_path = './conv_outputs'.format(labels[label])\n",
    "if not os.path.exists(output_conv_path):\n",
    "    os.makedirs(output_conv_path)\n",
    "\n",
    "labels = annotations.columns.values[1:-1]"
   ]
  },
  {
   "cell_type": "code",
   "execution_count": 70,
   "metadata": {},
   "outputs": [
    {
     "name": "stdout",
     "output_type": "stream",
     "text": [
      "Song with maximum pred for tag: spanish, \n",
      "\tprob: 0.6763861775398254, \n",
      "\tsong: 6/curandero-curandero-05-corriendo_juntos-204-233.mp3 \n",
      "Original labels: ['spanish' 'fast' 'guitar']\n",
      "Song with maximum pred for tag: classical guitar, \n",
      "\tprob: 0.7240307331085205, \n",
      "\tsong: 6/ed_martin-luis_milan__el_maestro-09-fantasia_9-146-175.mp3 \n",
      "Original labels: ['classical guitar' 'string' 'slow' 'classical' 'guitar']\n",
      "Song with maximum pred for tag: chorus, \n",
      "\tprob: 0.9412891268730164, \n",
      "\tsong: f/kyiv_chamber_choir-masterpieces_of_the_ukrainian_choral_baroque-09-i_have_cried_to_the_lord_with_my_voice-407-436.mp3 \n",
      "Original labels: ['choir' 'opera' 'classical']\n",
      "Song with maximum pred for tag: folk, \n",
      "\tprob: 0.6618261337280273, \n",
      "\tsong: 8/mercy_machine-mercy_machine-09-rachel-175-204.mp3 \n",
      "Original labels: ['folk' 'female' 'male' 'vocal' 'guitar']\n",
      "Song with maximum pred for tag: trance, \n",
      "\tprob: 0.6184954643249512, \n",
      "\tsong: 4/dj_markitos-evolution_of_the_mind-09-starship_earth-204-233.mp3 \n",
      "Original labels: ['trance' 'synth' 'fast' 'electro' 'techno']\n",
      "Song with maximum pred for tag: foreign, \n",
      "\tprob: 0.9374960660934448, \n",
      "\tsong: b/magnatune_compilation-world_fusion-14-shira_kammen_son_ar_sistr-30-59.mp3 \n",
      "Original labels: ['foreign' 'violin' 'vocal']\n",
      "Song with maximum pred for tag: baroque, \n",
      "\tprob: 0.5568276643753052, \n",
      "\tsong: d/janine_johnson-telemann_harpsichord_solos_from_der_getreue_music_meister-04-partin_a_cembalo_solo_aria_dolce_telemann-0-29.mp3 \n",
      "Original labels: ['baroque' 'harpsichord' 'piano' 'classical']\n",
      "Song with maximum pred for tag: orchestra, \n",
      "\tprob: 0.39392900466918945, \n",
      "\tsong: b/philharmonia_baroque-beethoven_symphonies_no_3_eroica_and_no_8-04-8_symph_1st-494-523.mp3 \n",
      "Original labels: ['orchestra' 'fast' 'string' 'classical']\n",
      "Song with maximum pred for tag: chant, \n",
      "\tprob: 0.9928460717201233, \n",
      "\tsong: a/ensemble_sreteniye-ancient_church_singing_of_byzantine_georgia_and_rus-11-o_theotokos_the_virgin_rejoice_ave_maria-1103-1132.mp3 \n",
      "Original labels: ['chant' 'choir' 'loud' 'opera' 'singer' 'male']\n",
      "Song with maximum pred for tag: hard, \n",
      "\tprob: 0.7297176718711853, \n",
      "\tsong: 8/hybris-the_first_words-07-hate-88-117.mp3 \n",
      "Original labels: ['hard' 'heavy' 'loud' 'rock' 'guitar']\n",
      "Song with maximum pred for tag: modern, \n",
      "\tprob: 0.42128244042396545, \n",
      "\tsong: 6/grayson_wray-picassos_dream-08-with_you_im_alone-204-233.mp3 \n",
      "Original labels: ['modern']\n",
      "Song with maximum pred for tag: bass, \n",
      "\tprob: 0.7219919562339783, \n",
      "\tsong: 2/version-versions-10-gardens_of_utopia-117-146.mp3 \n",
      "Original labels: ['bass' 'male' 'vocal' 'slow' 'drum']\n",
      "Song with maximum pred for tag: instrumental, \n",
      "\tprob: 0.25178104639053345, \n",
      "\tsong: b/magnatune_compilation-world_fusion-02-stellamara_del_mar_rojo-88-117.mp3 \n",
      "Original labels: ['foreign' 'instrumental' 'eastern' 'india' 'violin' 'string' 'slow'\n",
      " 'drum' 'classical']\n",
      "Song with maximum pred for tag: eastern, \n",
      "\tprob: 0.9462544322013855, \n",
      "\tsong: 0/solace-iman-02-iman-233-262.mp3 \n",
      "Original labels: ['eastern' 'sitar' 'india' 'drum']\n",
      "Song with maximum pred for tag: country, \n",
      "\tprob: 0.9789153933525085, \n",
      "\tsong: c/william_brooks-blue_ribbon__the_best_of_william_brooks-12-the_hanging_of_allen_scott_johnson-0-29.mp3 \n",
      "Original labels: ['country' 'singer' 'male' 'guitar']\n",
      "Song with maximum pred for tag: jazz, \n",
      "\tprob: 0.9346868395805359, \n",
      "\tsong: 2/drop_trio-big_dipper-10-abbey_rhodes-30-59.mp3 \n",
      "Original labels: ['jazz']\n",
      "Song with maximum pred for tag: cello, \n",
      "\tprob: 0.996494472026825, \n",
      "\tsong: c/vito_paternoster-cd1bach_sonatas_and_partitas_for_solo_violin-13-sonata_seconda_in_re_minore__grave-88-117.mp3 \n",
      "Original labels: ['cello' 'violin' 'string' 'slow' 'classical']\n",
      "Song with maximum pred for tag: heavy, \n",
      "\tprob: 0.8059733510017395, \n",
      "\tsong: c/atomic_opera-alpha_and_oranges-10-let_go-262-291.mp3 \n",
      "Original labels: ['hard' 'heavy' 'loud' 'fast' 'rock' 'guitar']\n",
      "Song with maximum pred for tag: harp, \n",
      "\tprob: 0.8098718523979187, \n",
      "\tsong: d/tim_rayborn-chordae-01-damor_non_jauzi-697-726.mp3 \n",
      "Original labels: ['harp' 'solo' 'piano' 'string' 'slow' 'classical' 'guitar']\n",
      "Song with maximum pred for tag: strange, \n",
      "\tprob: 0.6145580410957336, \n",
      "\tsong: 5/rapoon-fallen_gods-06-sacrement-378-407.mp3 \n",
      "Original labels: ['strange']\n",
      "Song with maximum pred for tag: dance, \n",
      "\tprob: 0.9831581115722656, \n",
      "\tsong: f/memories_of_tomorrow-waiting_for_dawn-08-the_games_you_play_trance_mix-59-88.mp3 \n",
      "Original labels: ['dance' 'singer' 'female' 'fast' 'techno']\n",
      "Song with maximum pred for tag: new age, \n",
      "\tprob: 0.8266134262084961, \n",
      "\tsong: f/dac_crowell-redshifted_harmonies-02-prinsengracht_extensions-1306-1335.mp3 \n",
      "Original labels: ['new age' 'synth' 'ambient' 'electro']\n",
      "Song with maximum pred for tag: choir, \n",
      "\tprob: 0.9993122816085815, \n",
      "\tsong: 4/monks_and_choirs_of_kiev_pechersk_lavra-chants_of_the_russian_orthodox_church-26-god_with_us_kievpechersk_chant-59-88.mp3 \n",
      "Original labels: ['chorus' 'choir' 'opera' 'male' 'vocal']\n",
      "Song with maximum pred for tag: solo, \n",
      "\tprob: 0.7022914290428162, \n",
      "\tsong: 7/jag-cypress_grove_blues-04-guitar_rag-59-88.mp3 \n",
      "Original labels: ['solo' 'guitar']\n",
      "Song with maximum pred for tag: sitar, \n",
      "\tprob: 0.9997780919075012, \n",
      "\tsong: 5/sitar-first_congregational_church_concert-02-raga_patdeep__gat__jay_kishor-59-88.mp3 \n",
      "Original labels: ['sitar' 'india']\n",
      "Song with maximum pred for tag: soft, \n",
      "\tprob: 0.5791894197463989, \n",
      "\tsong: d/magnatune_compilation-new_age_and_jazz-12-trip_wamsley_finally-233-262.mp3 \n",
      "Original labels: ['soft' 'slow' 'guitar']\n",
      "Song with maximum pred for tag: pop, \n",
      "\tprob: 0.9491982460021973, \n",
      "\tsong: 4/norine_braun-modern_anguish-08-cruel_streak-30-59.mp3 \n",
      "Original labels: ['country' 'pop' 'female' 'vocal']\n",
      "Song with maximum pred for tag: flute, \n",
      "\tprob: 0.9999967813491821, \n",
      "\tsong: 1/tim_rayborn-ashek-04-panayir-146-175.mp3 \n",
      "Original labels: ['flute' 'drum']\n",
      "Song with maximum pred for tag: quiet, \n",
      "\tprob: 0.8534548878669739, \n",
      "\tsong: d/beth_quist-shall_we_dance-09-ritual-0-29.mp3 \n",
      "Original labels: []\n",
      "Song with maximum pred for tag: loud, \n",
      "\tprob: 0.8591036796569824, \n",
      "\tsong: c/seismic_anamoly-ramifications-04-julies_tune-436-465.mp3 \n",
      "Original labels: ['hard' 'heavy' 'loud' 'rock' 'guitar']\n",
      "Song with maximum pred for tag: harpsichord, \n",
      "\tprob: 0.9892093539237976, \n",
      "\tsong: b/janine_johnson-bach_goldberg_variations-31-variatio_30_a_1_clav_quodlibet-59-88.mp3 \n",
      "Original labels: ['harp' 'harpsichord' 'classical']\n",
      "Song with maximum pred for tag: opera, \n",
      "\tprob: 0.9958835244178772, \n",
      "\tsong: 4/orinda-airs_de_cour-05-qu_les_jaloux_transports_camus-30-59.mp3 \n",
      "Original labels: ['opera']\n",
      "Song with maximum pred for tag: singer, \n",
      "\tprob: 0.9642492532730103, \n",
      "\tsong: d/kitka-wintersongs-12-bozha_zvezda_bulgarian_macedonia-30-59.mp3 \n",
      "Original labels: ['foreign' 'india']\n",
      "Song with maximum pred for tag: india, \n",
      "\tprob: 0.9969442486763, \n",
      "\tsong: 5/sitar-first_congregational_church_concert-02-raga_patdeep__gat__jay_kishor-146-175.mp3 \n",
      "Original labels: ['harp' 'sitar' 'india' 'slow']\n",
      "Song with maximum pred for tag: synth, \n",
      "\tprob: 0.9376891255378723, \n",
      "\tsong: b/wicked_allstars-dark_clouds-05-new_idm-88-117.mp3 \n",
      "Original labels: ['synth' 'techno']\n",
      "Song with maximum pred for tag: violin, \n",
      "\tprob: 0.9952054023742676, \n",
      "\tsong: 9/vito_paternoster-cd2bach_sonatas_and_partitas_for_solo_violin-11-partita_terza_in_la_maggiore__loure-146-175.mp3 \n",
      "Original labels: ['baroque' 'orchestra' 'cello' 'solo' 'violin' 'string' 'slow' 'classical']\n",
      "Song with maximum pred for tag: ambient, \n",
      "\tprob: 0.9413912892341614, \n",
      "\tsong: f/the_headroom_project-jetuton_andawai-04-industrial_blues-30-59.mp3 \n",
      "Original labels: ['strange' 'soft' 'synth' 'ambient' 'electro' 'techno' 'slow' 'drum']\n",
      "Song with maximum pred for tag: piano, \n",
      "\tprob: 0.9846410155296326, \n",
      "\tsong: f/ehren_starks-lines_build_walls-04-paper_lights-146-175.mp3 \n",
      "Original labels: ['piano' 'classical']\n",
      "Song with maximum pred for tag: female, \n",
      "\tprob: 0.9960023760795593, \n",
      "\tsong: 2/shira_kammen-the_almanac-15-ilkley_moor-88-117.mp3 \n",
      "Original labels: ['choir' 'female' 'vocal']\n",
      "Song with maximum pred for tag: male, \n",
      "\tprob: 0.9981593489646912, \n",
      "\tsong: 9/william_brooks-silent_wings-10-whose_moon-30-59.mp3 \n",
      "Original labels: ['male' 'vocal' 'guitar']\n",
      "Song with maximum pred for tag: fast, \n",
      "\tprob: 0.954907238483429, \n",
      "\tsong: f/strojovna_07-switch_on__switch_off-13-switch_on__switch_off-262-291.mp3 \n",
      "Original labels: ['dance' 'loud' 'fast' 'electro' 'techno' 'drum']\n"
     ]
    },
    {
     "name": "stdout",
     "output_type": "stream",
     "text": [
      "Song with maximum pred for tag: rock, \n",
      "\tprob: 0.9944033622741699, \n",
      "\tsong: c/soulprint-in_spite_of_it_all-02-show_me_fear-175-204.mp3 \n",
      "Original labels: ['rock']\n",
      "Song with maximum pred for tag: electro, \n",
      "\tprob: 0.9706289172172546, \n",
      "\tsong: b/wicked_allstars-dark_clouds-05-new_idm-88-117.mp3 \n",
      "Original labels: ['synth' 'techno']\n",
      "Song with maximum pred for tag: vocal, \n",
      "\tprob: 0.9867423176765442, \n",
      "\tsong: d/kitka-wintersongs-12-bozha_zvezda_bulgarian_macedonia-30-59.mp3 \n",
      "Original labels: ['foreign' 'india']\n",
      "Song with maximum pred for tag: string, \n",
      "\tprob: 0.9207773208618164, \n",
      "\tsong: 9/vito_paternoster-cd2bach_sonatas_and_partitas_for_solo_violin-11-partita_terza_in_la_maggiore__loure-146-175.mp3 \n",
      "Original labels: ['baroque' 'orchestra' 'cello' 'solo' 'violin' 'string' 'slow' 'classical']\n",
      "Song with maximum pred for tag: techno, \n",
      "\tprob: 0.9985270500183105, \n",
      "\tsong: f/memories_of_tomorrow-waiting_for_dawn-09-not_like_this-262-291.mp3 \n",
      "Original labels: ['fast' 'techno']\n",
      "Song with maximum pred for tag: slow, \n",
      "\tprob: 0.9466352462768555, \n",
      "\tsong: c/liquid_zen-oscilloscope-10-zeitgeist-291-320.mp3 \n",
      "Original labels: ['bass' 'electro' 'slow' 'drum']\n",
      "Song with maximum pred for tag: drum, \n",
      "\tprob: 0.9871139526367188, \n",
      "\tsong: 4/norine_braun-modern_anguish-05-another_kiss_is_taken-0-29.mp3 \n",
      "Original labels: ['drum']\n",
      "Song with maximum pred for tag: classical, \n",
      "\tprob: 0.9832834005355835, \n",
      "\tsong: 9/vito_paternoster-cd2bach_sonatas_and_partitas_for_solo_violin-12-partita_terza_in_la_maggiore__gavotte_en_rondeaux-0-29.mp3 \n",
      "Original labels: ['cello' 'violin' 'string' 'classical']\n",
      "Song with maximum pred for tag: guitar, \n",
      "\tprob: 0.9946386218070984, \n",
      "\tsong: 6/john_williams-dusty_porch-13-days_end-30-59.mp3 \n",
      "Original labels: ['country' 'slow' 'guitar']\n"
     ]
    }
   ],
   "source": [
    "for label in range(len(labels)):\n",
    "    pred_label = y_pred[:,label]\n",
    "    max_song_for_label = np.argmax(pred_label)\n",
    "    print('Song with maximum pred for tag: {}, \\n\\tprob: {}, \\n\\tsong: {} '.format(labels[label],\n",
    "                                                                           pred_label[max_song_for_label],\n",
    "                                                                          train_set_paths[max_song_for_label]))\n",
    "\n",
    "\n",
    "    base_dir = '../data/MagnaTagATune/rawwav_2/'\n",
    "    song_path = base_dir + train_set_paths[max_song_for_label][:-3] + 'wav'\n",
    "    sr, song = wavfile.read(song_path)\n",
    "\n",
    "\n",
    "\n",
    "    print('Original labels: {}'.format(labels[np.where(train_set_labels[max_song_for_label] == 1)]))\n",
    "\n",
    "\n",
    "    for layer in conv_layers:\n",
    "        intermediate_layer_model = keras.Model(inputs=model.input,\n",
    "                                     outputs=model.get_layer(layer).output)\n",
    "        outputs_layers[layer] = intermediate_layer_model.predict(song[np.newaxis,:,np.newaxis])\n",
    "\n",
    "\n",
    "    output_label_path = output_conv_path + '/' + labels[label]\n",
    "    if not os.path.exists(output_label_path):\n",
    "        os.makedirs(output_label_path)\n",
    "\n",
    "    wavfile.write('{}/song.wav'.format(output_label_path) , sr, song)\n",
    "    for layer in conv_layers:\n",
    "        output_layer_path = output_label_path + '/' + layer\n",
    "        if not os.path.exists(output_layer_path):\n",
    "            os.makedirs(output_layer_path)\n",
    "        for fil in range(outputs_layers[layer].shape[2]):\n",
    "            wavfile.write('{}/{}.wav'.format(output_layer_path, fil) , sr, outputs_layers[layer][0,:,fil])"
   ]
  },
  {
   "cell_type": "code",
   "execution_count": 67,
   "metadata": {},
   "outputs": [],
   "source": []
  },
  {
   "cell_type": "code",
   "execution_count": 63,
   "metadata": {},
   "outputs": [
    {
     "data": {
      "text/plain": [
       "(1, 155328, 128)"
      ]
     },
     "execution_count": 63,
     "metadata": {},
     "output_type": "execute_result"
    }
   ],
   "source": [
    "outputs_layers['conv1d_1'].shape"
   ]
  },
  {
   "cell_type": "code",
   "execution_count": null,
   "metadata": {},
   "outputs": [],
   "source": [
    "plt.plot(time_range, input_song_data[0,:,0])\n",
    "plt.show()"
   ]
  },
  {
   "cell_type": "code",
   "execution_count": null,
   "metadata": {},
   "outputs": [],
   "source": [
    "file_dir = './grad_ascent_songs/'\n",
    "S = []\n",
    "for file in os.listdir(file_dir):\n",
    "    sr, data = wavfile.read(file_dir + file)\n",
    "    S.append(data)\n",
    "S = np.array(S)"
   ]
  },
  {
   "cell_type": "code",
   "execution_count": null,
   "metadata": {},
   "outputs": [],
   "source": [
    "def plot_song(song, sr):\n",
    "    time_interval = 1/sr\n",
    "    time_range = (np.arange(0, len(song))*time_interval)\n",
    "    plt.plot(time_range, song)\n",
    "    \n",
    "def plot_fft(song, sr):\n",
    "    n = len(song) \n",
    "    p = fft(song)\n",
    "    nUniquePts = int(np.ceil((n+1)/2.0))\n",
    "    p = p[0:nUniquePts]\n",
    "    p = np.abs(p)\n",
    "\n",
    "    if n % 2 > 0: # we've got odd number of points fft\n",
    "        p[1:len(p)] = p[1:len(p)] * 2\n",
    "    else:\n",
    "        p[1:len(p) -1] = p[1:len(p) - 1] * 2\n",
    "    \n",
    "    freqArray = np.arange(0, nUniquePts, 1.0) * (sr / n);\n",
    "    plt.plot(freqArray, p, color='k')"
   ]
  },
  {
   "cell_type": "code",
   "execution_count": null,
   "metadata": {},
   "outputs": [],
   "source": [
    "plot_song(S[0,:], 16000)"
   ]
  },
  {
   "cell_type": "code",
   "execution_count": null,
   "metadata": {},
   "outputs": [],
   "source": [
    "plot_fft(S[49,:], 16000)"
   ]
  },
  {
   "cell_type": "code",
   "execution_count": null,
   "metadata": {},
   "outputs": [],
   "source": [
    "plot_song(S[2,:], 16000)"
   ]
  },
  {
   "cell_type": "code",
   "execution_count": null,
   "metadata": {},
   "outputs": [],
   "source": [
    "plot_song(S[40,:], 16000)"
   ]
  },
  {
   "cell_type": "code",
   "execution_count": null,
   "metadata": {},
   "outputs": [],
   "source": [
    "np.random.randint(-30000,30000, size = (1, song_lenght, 1)).shape"
   ]
  },
  {
   "cell_type": "code",
   "execution_count": null,
   "metadata": {},
   "outputs": [],
   "source": [
    "input_song_data = (np.random.randint(-30000,30000, size = (1, song_lenght, 1)))\n",
    "input_song_data[0,:,0] = np.float(input_song_data[0,:,0])"
   ]
  },
  {
   "cell_type": "code",
   "execution_count": null,
   "metadata": {},
   "outputs": [],
   "source": []
  }
 ],
 "metadata": {
  "kernelspec": {
   "display_name": "Python 3",
   "language": "python",
   "name": "python3"
  },
  "language_info": {
   "codemirror_mode": {
    "name": "ipython",
    "version": 3
   },
   "file_extension": ".py",
   "mimetype": "text/x-python",
   "name": "python",
   "nbconvert_exporter": "python",
   "pygments_lexer": "ipython3",
   "version": "3.6.4"
  }
 },
 "nbformat": 4,
 "nbformat_minor": 2
}
