{
 "cells": [
  {
   "cell_type": "code",
   "execution_count": 3,
   "metadata": {},
   "outputs": [],
   "source": [
    "import pickle as pk\n",
    "import pandas as pd\n",
    "import os\n",
    "from scipy.io import wavfile\n",
    "import librosa\n",
    "import numpy as np\n",
    "from tqdm import tqdm"
   ]
  },
  {
   "cell_type": "code",
   "execution_count": 4,
   "metadata": {},
   "outputs": [],
   "source": [
    "base_dir = '../data/MagnaTagATune/'\n",
    "annotation_fn = 'annotations_final.csv'\n",
    "annotation_path = base_dir + annotation_fn\n",
    "\n",
    "annotations = pd.read_csv(annotation_path, sep='\\t')"
   ]
  },
  {
   "cell_type": "markdown",
   "metadata": {},
   "source": [
    "#### Parameters"
   ]
  },
  {
   "cell_type": "code",
   "execution_count": 5,
   "metadata": {},
   "outputs": [],
   "source": [
    "sample_rate = 22050\n",
    "n_fft = 1024\n",
    "hop_length = 256 \n",
    "\n",
    "output_dir = '../data/MagnaTagATune/MEL_default_hop/"
   ]
  },
  {
   "cell_type": "code",
   "execution_count": 6,
   "metadata": {},
   "outputs": [
    {
     "name": "stderr",
     "output_type": "stream",
     "text": [
      " 63%|██████▎   | 16253/25863 [06:47<04:00, 39.91it/s]  "
     ]
    },
    {
     "name": "stdout",
     "output_type": "stream",
     "text": [
      "6/norine_braun-now_and_zen-08-gently-117-146.mp3\n"
     ]
    },
    {
     "name": "stderr",
     "output_type": "stream",
     "text": [
      " 96%|█████████▌| 24871/25863 [12:20<00:29, 33.56it/s]"
     ]
    },
    {
     "name": "stdout",
     "output_type": "stream",
     "text": [
      "8/jacob_heringman-josquin_des_prez_lute_settings-19-gintzler__pater_noster-204-233.mp3\n"
     ]
    },
    {
     "name": "stderr",
     "output_type": "stream",
     "text": [
      " 99%|█████████▉| 25550/25863 [12:47<00:09, 33.31it/s]"
     ]
    },
    {
     "name": "stdout",
     "output_type": "stream",
     "text": [
      "9/american_baroque-dances_and_suites_of_rameau_and_couperin-25-le_petit_rien_xiveme_ordre_couperin-88-117.mp3\n"
     ]
    },
    {
     "name": "stderr",
     "output_type": "stream",
     "text": [
      "100%|██████████| 25863/25863 [12:59<00:00, 33.19it/s]\n"
     ]
    }
   ],
   "source": [
    "for value in tqdm(annotations['mp3_path']):\n",
    "    path = '../data/MagnaTagATune/rawwav_2/'+value[:-3]+'wav'\n",
    "    if not os.path.exists(output_dir + value[:-3]+'p'):\n",
    "        try:\n",
    "            _, data = wavfile.read(path)\n",
    "            S = librosa.power_to_db(librosa.feature.melspectrogram(np.float32(data), sr = sample_rate))\n",
    "            if not os.path.exists(output_dir + value[0:1]):\n",
    "                os.makedirs(output_dir + value[0:1])\n",
    "\n",
    "            pk.dump(S, open( output_dir + value[:-3]+'p', 'wb' ))    \n",
    "        except:\n",
    "            print(value)"
   ]
  },
  {
   "cell_type": "code",
   "execution_count": null,
   "metadata": {},
   "outputs": [
    {
     "name": "stderr",
     "output_type": "stream",
     "text": [
      "\n",
      "  0%|          | 0/25863 [00:00<?, ?it/s]\u001b[A\n",
      "  1%|          | 308/25863 [00:00<00:08, 3055.85it/s]\u001b[A\n",
      "  2%|▏         | 606/25863 [00:00<00:08, 2999.62it/s]\u001b[A\n",
      "  4%|▎         | 907/25863 [00:00<00:08, 3012.63it/s]\u001b[A\n",
      "  5%|▍         | 1211/25863 [00:00<00:08, 3018.27it/s]\u001b[A\n",
      "  6%|▌         | 1514/25863 [00:00<00:08, 3020.27it/s]\u001b[A\n",
      "  7%|▋         | 1818/25863 [00:00<00:07, 3023.24it/s]\u001b[A\n",
      "  8%|▊         | 2124/25863 [00:00<00:07, 3027.85it/s]\u001b[A\n",
      "  9%|▉         | 2425/25863 [00:00<00:07, 3025.31it/s]\u001b[A\n",
      " 11%|█         | 2731/25863 [00:00<00:07, 3028.83it/s]\u001b[A\n",
      " 12%|█▏        | 3037/25863 [00:01<00:07, 3031.89it/s]\u001b[A\n",
      " 13%|█▎        | 3342/25863 [00:01<00:07, 3033.40it/s]\u001b[A\n",
      " 14%|█▍        | 3649/25863 [00:01<00:07, 3036.01it/s]\u001b[A\n",
      " 15%|█▌        | 3955/25863 [00:01<00:07, 3037.73it/s]\u001b[A\n",
      " 17%|█▋        | 4286/25863 [00:01<00:07, 3056.66it/s]\u001b[A\n",
      " 18%|█▊        | 4622/25863 [00:01<00:06, 3076.64it/s]\u001b[A\n",
      " 19%|█▉        | 4950/25863 [00:01<00:06, 3088.90it/s]\u001b[A\n",
      " 20%|██        | 5271/25863 [00:01<00:06, 3093.08it/s]\u001b[A\n",
      " 22%|██▏       | 5591/25863 [00:01<00:06, 3092.40it/s]\u001b[A\n",
      " 23%|██▎       | 5907/25863 [00:01<00:06, 3081.62it/s]\u001b[A\n",
      " 24%|██▍       | 6216/25863 [00:02<00:06, 3080.82it/s]\u001b[A\n",
      " 25%|██▌       | 6531/25863 [00:02<00:06, 3083.87it/s]\u001b[A\n",
      " 26%|██▋       | 6841/25863 [00:02<00:06, 3079.13it/s]\u001b[A\n",
      " 28%|██▊       | 7150/25863 [00:02<00:06, 3079.58it/s]\u001b[A\n",
      " 29%|██▉       | 7465/25863 [00:02<00:05, 3082.44it/s]\u001b[A\n",
      " 30%|███       | 7782/25863 [00:02<00:05, 3085.57it/s]"
     ]
    }
   ],
   "source": [
    "for value in tqdm(annotations['mp3_path']):\n",
    "    path = output_dir+value[:-3]+'p'\n",
    "    try:\n",
    "        S = pk.load(open(path,'rb'))\n",
    "    except:\n",
    "        path = '../data/MagnaTagATune/rawwav_2/'+value[:-3]+'wav'\n",
    "        try:\n",
    "            _, data = wavfile.read(path)\n",
    "            S = librosa.power_to_db(librosa.feature.melspectrogram(np.float32(data), sr = sample_rate))\n",
    "            if not os.path.exists(output_dir + value[0:1]):\n",
    "                os.makedirs(output_dir + value[0:1])\n",
    "\n",
    "            pk.dump(S, open( output_dir + value[:-3]+'p', 'wb' )) \n",
    "        except:\n",
    "            print(value)"
   ]
  },
  {
   "cell_type": "code",
   "execution_count": null,
   "metadata": {},
   "outputs": [],
   "source": []
  }
 ],
 "metadata": {
  "kernelspec": {
   "display_name": "Python 3",
   "language": "python",
   "name": "python3"
  },
  "language_info": {
   "codemirror_mode": {
    "name": "ipython",
    "version": 3
   },
   "file_extension": ".py",
   "mimetype": "text/x-python",
   "name": "python",
   "nbconvert_exporter": "python",
   "pygments_lexer": "ipython3",
   "version": "3.6.5"
  }
 },
 "nbformat": 4,
 "nbformat_minor": 2
}
