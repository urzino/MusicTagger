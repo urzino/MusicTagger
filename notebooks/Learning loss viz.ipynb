{
 "cells": [
  {
   "cell_type": "code",
   "execution_count": null,
   "metadata": {},
   "outputs": [],
   "source": [
    "from bokeh.io import output_file, show, export_png\n",
    "from itertools import combinations, product\n",
    "from bokeh.plotting import figure\n",
    "import pandas as pd\n",
    "import numpy as np"
   ]
  },
  {
   "cell_type": "code",
   "execution_count": null,
   "metadata": {},
   "outputs": [],
   "source": [
    "models = ['LSTM','MEL','RAW']\n",
    "\n",
    "base_dir = './training_data/'\n",
    "tr_data = dict()\n",
    "val_data = dict()\n",
    "for model in models:\n",
    "    tr_data[model] = pd.read_csv(base_dir + model + '/train_loss.csv', sep=',')\n",
    "    val_data[model] = pd.read_csv(base_dir + model + '/val_loss.csv', sep=',')\n",
    "\n",
    "\n",
    "def plot_tr_curve(data, model='LSTM', curve_type='train'):\n",
    "    # create a new plot with a title and axis labels\n",
    "    \n",
    "    p = figure(x_axis_label='epochs', y_axis_label = curve_type + ' loss', tools = 'save')\n",
    "    x = np.arange(0,data[model].shape[0],1)\n",
    "    y = data[model]['Value'].values\n",
    "    # add a line renderer with legend and line thickness\n",
    "    p.line(x,y,line_width=3, color='orange')\n",
    "    show(p)"
   ]
  },
  {
   "cell_type": "code",
   "execution_count": null,
   "metadata": {},
   "outputs": [],
   "source": [
    "for model, curve in product(models,['train','val']):\n",
    "    print(model,curve)\n",
    "    if curve == 'train':\n",
    "        plot_tr_curve(tr_data, model, curve)\n",
    "    elif curve == 'val':\n",
    "        plot_tr_curve(val_data, model, curve)"
   ]
  },
  {
   "cell_type": "code",
   "execution_count": null,
   "metadata": {},
   "outputs": [],
   "source": []
  }
 ],
 "metadata": {
  "kernelspec": {
   "display_name": "Python 3",
   "language": "python",
   "name": "python3"
  },
  "language_info": {
   "codemirror_mode": {
    "name": "ipython",
    "version": 3
   },
   "file_extension": ".py",
   "mimetype": "text/x-python",
   "name": "python",
   "nbconvert_exporter": "python",
   "pygments_lexer": "ipython3",
   "version": "3.6.4"
  }
 },
 "nbformat": 4,
 "nbformat_minor": 2
}
