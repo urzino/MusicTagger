{
 "cells": [
  {
   "cell_type": "code",
   "execution_count": 4,
   "metadata": {
    "collapsed": true
   },
   "outputs": [],
   "source": [
    "from pydub import AudioSegment\n",
    "import pandas as pd\n",
    "from tqdm import tqdm\n",
    "import os"
   ]
  },
  {
   "cell_type": "code",
   "execution_count": 5,
   "metadata": {
    "collapsed": true
   },
   "outputs": [],
   "source": [
    "annotation = pd.read_csv('../data/MagnaTagATune/annotations_final.csv', sep='\\t')"
   ]
  },
  {
   "cell_type": "code",
   "execution_count": 6,
   "metadata": {},
   "outputs": [
    {
     "name": "stderr",
     "output_type": "stream",
     "text": [
      "100%|█████████▉| 25860/25863 [00:00<00:00, 58192.40it/s]"
     ]
    },
    {
     "name": "stdout",
     "output_type": "stream",
     "text": [
      "6/norine_braun-now_and_zen-08-gently-117-146.mp3\n",
      "8/jacob_heringman-josquin_des_prez_lute_settings-19-gintzler__pater_noster-204-233.mp3\n",
      "9/american_baroque-dances_and_suites_of_rameau_and_couperin-25-le_petit_rien_xiveme_ordre_couperin-88-117.mp3\n"
     ]
    },
    {
     "name": "stderr",
     "output_type": "stream",
     "text": [
      "\n"
     ]
    }
   ],
   "source": [
    "with tqdm(total=len(list(annotation['mp3_path']))) as pbar:\n",
    "    for value in annotation['mp3_path']:\n",
    "        input_song = \"../data/MagnaTagATune/raw/\" + value\n",
    "        try:\n",
    "            output_song = \"../data/MagnaTagATune/rawwav/\" + value[:-3] + 'wav'\n",
    "            output_dir = '../data/MagnaTagATune/rawwav/' + value[:2]\n",
    "            if not os.path.exists(os.path.dirname(output_dir)):\n",
    "                os.makedirs(os.path.dirname(output_dir))\n",
    "            if not os.path.exists(output_song):\n",
    "                song = AudioSegment.from_mp3(input_song)\n",
    "                song.export(output_song, format=\"wav\")\n",
    "            pbar.update(1)\n",
    "        except:\n",
    "            print(value)"
   ]
  },
  {
   "cell_type": "code",
   "execution_count": null,
   "metadata": {
    "collapsed": true
   },
   "outputs": [],
   "source": []
  }
 ],
 "metadata": {
  "kernelspec": {
   "display_name": "Tensorflow",
   "language": "python",
   "name": "tensorflow"
  },
  "language_info": {
   "codemirror_mode": {
    "name": "ipython",
    "version": 3
   },
   "file_extension": ".py",
   "mimetype": "text/x-python",
   "name": "python",
   "nbconvert_exporter": "python",
   "pygments_lexer": "ipython3",
   "version": "3.6.4"
  }
 },
 "nbformat": 4,
 "nbformat_minor": 2
}
