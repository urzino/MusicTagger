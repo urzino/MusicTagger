{
 "cells": [
  {
   "cell_type": "code",
<<<<<<< HEAD
   "execution_count": 5,
=======
   "execution_count": 3,
>>>>>>> 154e3a5b6193778dc437ada185b949c4c5ca445b
   "metadata": {},
   "outputs": [],
   "source": [
    "from pydub import AudioSegment\n",
    "from madmom.audio.signal import Signal\n",
    "import pandas as pd\n",
    "from tqdm import tqdm\n",
    "import os"
   ]
  },
  {
   "cell_type": "code",
<<<<<<< HEAD
   "execution_count": 6,
=======
   "execution_count": null,
>>>>>>> 154e3a5b6193778dc437ada185b949c4c5ca445b
   "metadata": {},
   "outputs": [],
   "source": [
    "annotation = pd.read_csv('../data/MagnaTagATune/annotations_final.csv', sep='\\t')"
   ]
  },
  {
   "cell_type": "code",
   "execution_count": null,
   "metadata": {},
   "outputs": [
    {
     "name": "stderr",
     "output_type": "stream",
     "text": [
<<<<<<< HEAD
      "  5%|▍         | 1267/25863 [07:03<2:10:03,  3.15it/s]"
=======
      " 34%|███▍      | 8881/25863 [19:40<43:54,  6.45it/s]  "
>>>>>>> 154e3a5b6193778dc437ada185b949c4c5ca445b
     ]
    }
   ],
   "source": [
    "with tqdm(total=len(list(annotation['mp3_path']))) as pbar:\n",
    "    for value in annotation['mp3_path']:\n",
    "        input_song = \"../data/MagnaTagATune/mp3/\" + value\n",
    "        try:\n",
    "            output_song = \"../data/MagnaTagATune/rawwav_2/\" + value[:-3] + 'wav'\n",
    "            output_dir = '../data/MagnaTagATune/rawwav_2/' + value[:2]\n",
    "            if not os.path.exists(os.path.dirname(output_dir)):\n",
    "                os.makedirs(os.path.dirname(output_dir))\n",
    "            if not os.path.exists(output_song):\n",
    "                song = AudioSegment.from_mp3(input_song)\n",
    "                song.set_frame_rate(22050)\n",
    "                song.export(output_song, format=\"wav\")\n",
    "            pbar.update(1)\n",
    "        except:\n",
    "            print(value)"
   ]
  },
  {
   "cell_type": "code",
   "execution_count": null,
   "metadata": {
    "collapsed": true
   },
   "outputs": [],
   "source": []
  }
 ],
 "metadata": {
  "kernelspec": {
<<<<<<< HEAD
   "display_name": "musictagger",
   "language": "python",
   "name": "musictagger"
=======
   "display_name": "Python 3",
   "language": "python",
   "name": "python3"
>>>>>>> 154e3a5b6193778dc437ada185b949c4c5ca445b
  },
  "language_info": {
   "codemirror_mode": {
    "name": "ipython",
    "version": 3
   },
   "file_extension": ".py",
   "mimetype": "text/x-python",
   "name": "python",
   "nbconvert_exporter": "python",
   "pygments_lexer": "ipython3",
   "version": "3.6.5"
  }
 },
 "nbformat": 4,
 "nbformat_minor": 2
}
