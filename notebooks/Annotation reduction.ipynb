{
 "cells": [
  {
   "cell_type": "code",
   "execution_count": 1,
   "metadata": {},
   "outputs": [],
   "source": [
    "import pandas as pd\n",
    "import numpy as np\n",
    "import matplotlib.pyplot as plt\n",
    "from IPython.display import display, HTML"
   ]
  },
  {
   "cell_type": "code",
   "execution_count": 2,
   "metadata": {},
   "outputs": [],
   "source": [
    "base_dir = '../data/MagnaTagATune/'\n",
    "annotation_fn = 'annotations_final.csv'\n",
    "annotation_path = base_dir + annotation_fn\n",
    "annotation_out_fn = 'annotation_reduced_50.csv'\n",
    "annotation_out_path = base_dir + annotation_out_fn\n",
    "\n",
    "annotations = pd.read_csv(annotation_path, sep='\\t')"
   ]
  },
  {
   "cell_type": "code",
   "execution_count": 3,
   "metadata": {},
   "outputs": [
    {
     "name": "stdout",
     "output_type": "stream",
     "text": [
      "Len before removing wrong songs:25863\n",
      "Len after removing wrong songs:25860\n"
     ]
    }
   ],
   "source": [
    "print(\"Len before removing wrong songs:{}\".format(len(annotations)))\n",
    "to_be_removed = [\"6/norine_braun-now_and_zen-08-gently-117-146.mp3\", \n",
    "                 \"8/jacob_heringman-josquin_des_prez_lute_settings-19-gintzler__pater_noster-204-233.mp3\",\n",
    "                 \"9/american_baroque-dances_and_suites_of_rameau_and_couperin-25-le_petit_rien_xiveme_ordre_couperin-88-117.mp3\"]\n",
    "\n",
    "annotations = annotations.drop(index = annotations.loc[annotations['mp3_path'].isin(to_be_removed)].index)\\\n",
    "                                                                                        .reset_index(drop=True)\n",
    "print(\"Len after removing wrong songs:{}\".format(len(annotations)))"
   ]
  },
  {
   "cell_type": "code",
   "execution_count": 4,
   "metadata": {},
   "outputs": [],
   "source": [
    "synonyms = [['drum','beat', 'beats','drums'],['chant', 'chanting'],['choir', 'choral'],\n",
    "                ['classical', 'clasical', 'classic'],\n",
    "                ['electro', 'electronic', 'electronica', 'electric'],\n",
    "                ['fast', 'fast beat', 'quick'],\n",
    "                ['female', 'female singer', 'female singing', 'female vocals','female vocal','female voice', 'woman', 'woman singing', 'women'],\n",
    "                ['flute', 'flutes'],['guitar', 'guitars'],['hard', 'hard rock'],['harpsichord', 'harpsicord'],\n",
    "                ['heavy', 'heavy metal', 'metal'],['horn', 'horns'],['india', 'indian'],['jazz', 'jazzy'],\n",
    "                ['male', 'male singer', 'male vocal', 'male vocals', 'male voice', 'man', 'man singing', 'men'],\n",
    "                ['opera', 'operatic'],['orchestra', 'orchestral'],['quiet', 'silence'],['singer', 'singing'],\n",
    "                ['space', 'spacey'],['string', 'strings'],['synth', 'synthesizer'],['violin', 'violins'],\n",
    "                ['vocal', 'vocals', 'voice', 'voices'],['strange', 'weird']]\n",
    "\n",
    "non_relevant_tags = ['no flute', 'no guitar', 'no piano','no strings', \n",
    "                     'no violin','not classical', 'not english','not opera', \n",
    "                     'not rock','no beat', 'no singer','no drums', 'no singing',\n",
    "                     'no vocal', 'no vocals', 'no voice', 'no voices']\n",
    "\n",
    "annotations.drop(columns=non_relevant_tags, inplace=True)\n",
    "\n",
    "#each tag is mapped to the first synonym\n",
    "renaming_map = {}\n",
    "for row in synonyms:\n",
    "    ref = row[0]\n",
    "    for syn in row:\n",
    "        if syn != ref:\n",
    "            renaming_map[syn] = ref"
   ]
  },
  {
   "cell_type": "code",
   "execution_count": 5,
   "metadata": {},
   "outputs": [
    {
     "name": "stdout",
     "output_type": "stream",
     "text": [
      "After merge: 125\n"
     ]
    }
   ],
   "source": [
    "#rename and merge synonym columns\n",
    "annotations.rename(columns=renaming_map, inplace=True)\n",
    "annotations = annotations.groupby(lambda x:x, axis=1).sum()\n",
    "annotations = annotations.applymap(lambda x: 1 if type(x)==int and x>=1 else x)\n",
    "print(\"After merge: {}\".format(len(annotations.columns.values)))"
   ]
  },
  {
   "cell_type": "code",
   "execution_count": 6,
   "metadata": {},
   "outputs": [],
   "source": [
    "n = 50\n",
    "top_n = (annotations.drop(['clip_id', 'mp3_path'], axis=1)\n",
    "               .sum()\n",
    "               .sort_values()\n",
    "               .tail(n)\n",
    "               .index\n",
    "               .tolist())\n",
    "top_n_values =  (annotations.drop(['clip_id', 'mp3_path'], axis=1)\n",
    "               .sum()\n",
    "               .sort_values()\n",
    "               .tail(n)\n",
    "               .values)"
   ]
  },
  {
   "cell_type": "code",
   "execution_count": 7,
   "metadata": {},
   "outputs": [
    {
     "data": {
      "text/plain": [
       "array([ 217,  225,  241,  243,  253,  275,  296,  296,  312,  323,  327,\n",
       "        337,  384,  406,  541,  555,  575,  583,  622,  640,  649,  650,\n",
       "        791,  826,  926,  985,  995, 1034, 1072, 1086, 1122, 1298, 1308,\n",
       "       1402, 1734, 1906, 1956, 2056, 2067, 2169, 2330, 2371, 2764, 2813,\n",
       "       2840, 2954, 3547, 3813, 4356, 4860])"
      ]
     },
     "execution_count": 7,
     "metadata": {},
     "output_type": "execute_result"
    }
   ],
   "source": [
    "top_n_values"
   ]
  },
  {
   "cell_type": "code",
   "execution_count": 12,
   "metadata": {},
   "outputs": [],
   "source": [
    "# plot \n",
    "from bokeh.io import show, output_file\n",
    "from bokeh.plotting import figure\n",
    "import bokeh\n",
    "\n",
    "output_path = 'figures/tags_distribution.png'\n",
    "\n",
    "p = figure(plot_height=350, x_axis_label = 'tags', y_axis_label = 'count',\n",
    "           tools=\"save\")\n",
    "\n",
    "\n",
    "p.vbar(x=np.arange(0,len(top_n)), top=top_n_values, width=0.9)\n",
    "\n",
    "p.xgrid.grid_line_color = None\n",
    "p.y_range.start = 0\n",
    "show(p)"
   ]
  },
  {
   "cell_type": "code",
   "execution_count": null,
   "metadata": {},
   "outputs": [],
   "source": [
    "total_tag_instances = annotations.drop(['clip_id','mp3_path'],axis=1).sum(axis=0).sum()\n",
    "total_tag_instances_top_n = annotations[top_n].sum(axis=0).sum()\n",
    "print(\"Coverage: {}\".format(total_tag_instances_top_n/total_tag_instances))"
   ]
  },
  {
   "cell_type": "code",
   "execution_count": null,
   "metadata": {},
   "outputs": [],
   "source": [
    "final_annotations = annotations[top_n + ['mp3_path']] \n",
    "final_annotations.to_csv(path_or_buf=annotation_out_path, sep='\\t')"
   ]
  },
  {
   "cell_type": "code",
   "execution_count": null,
   "metadata": {},
   "outputs": [],
   "source": []
  }
 ],
 "metadata": {
  "kernelspec": {
   "display_name": "Python 3",
   "language": "python",
   "name": "python3"
  },
  "language_info": {
   "codemirror_mode": {
    "name": "ipython",
    "version": 3
   },
   "file_extension": ".py",
   "mimetype": "text/x-python",
   "name": "python",
   "nbconvert_exporter": "python",
   "pygments_lexer": "ipython3",
   "version": "3.6.4"
  }
 },
 "nbformat": 4,
 "nbformat_minor": 2
}
