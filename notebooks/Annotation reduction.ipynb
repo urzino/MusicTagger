{
 "cells": [
  {
   "cell_type": "code",
   "execution_count": 1,
   "metadata": {},
   "outputs": [],
   "source": [
    "import pandas as pd\n",
    "import numpy as np\n",
    "import matplotlib.pyplot as plt\n",
    "from IPython.display import display, HTML"
   ]
  },
  {
   "cell_type": "code",
   "execution_count": 2,
   "metadata": {},
   "outputs": [],
   "source": [
    "base_dir = '../data/MagnaTagATune/'\n",
    "annotation_fn = 'annotations_final.csv'\n",
    "annotation_path = base_dir + annotation_fn\n",
    "annotation_out_fn = 'annotation_reduced_50.csv'\n",
    "annotation_out_path = base_dir + annotation_out_fn\n",
    "\n",
    "annotations = pd.read_csv(annotation_path, sep='\\t')"
   ]
  },
  {
   "cell_type": "code",
   "execution_count": 3,
   "metadata": {},
   "outputs": [
    {
     "name": "stdout",
     "output_type": "stream",
     "text": [
      "Len before removing wrong songs:25863\n",
      "Len after removing wrong songs:25860\n"
     ]
    }
   ],
   "source": [
    "print(\"Len before removing wrong songs:{}\".format(len(annotations)))\n",
    "to_be_removed = [\"6/norine_braun-now_and_zen-08-gently-117-146.mp3\", \n",
    "                 \"8/jacob_heringman-josquin_des_prez_lute_settings-19-gintzler__pater_noster-204-233.mp3\",\n",
    "                 \"9/american_baroque-dances_and_suites_of_rameau_and_couperin-25-le_petit_rien_xiveme_ordre_couperin-88-117.mp3\"]\n",
    "\n",
    "annotations = annotations.drop(index = annotations.loc[annotations['mp3_path'].isin(to_be_removed)].index)\\\n",
    "                                                                                        .reset_index(drop=True)\n",
    "print(\"Len after removing wrong songs:{}\".format(len(annotations)))"
   ]
  },
  {
   "cell_type": "code",
   "execution_count": 4,
   "metadata": {},
   "outputs": [],
   "source": [
    "synonyms = [['drum','beat', 'beats','drums'],['chant', 'chanting'],['choir', 'choral'],\n",
    "                ['classical', 'clasical', 'classic'],\n",
    "                ['electro', 'electronic', 'electronica', 'electric'],\n",
    "                ['fast', 'fast beat', 'quick'],\n",
    "                ['female', 'female singer', 'female singing', 'female vocals','female vocal','female voice', 'woman', 'woman singing', 'women'],\n",
    "                ['flute', 'flutes'],['guitar', 'guitars'],['hard', 'hard rock'],['harpsichord', 'harpsicord'],\n",
    "                ['heavy', 'heavy metal', 'metal'],['horn', 'horns'],['india', 'indian'],['jazz', 'jazzy'],\n",
    "                ['male', 'male singer', 'male vocal', 'male vocals', 'male voice', 'man', 'man singing', 'men'],\n",
    "                ['opera', 'operatic'],['orchestra', 'orchestral'],['quiet', 'silence'],['singer', 'singing'],\n",
    "                ['space', 'spacey'],['string', 'strings'],['synth', 'synthesizer'],['violin', 'violins'],\n",
    "                ['vocal', 'vocals', 'voice', 'voices'],['strange', 'weird']]\n",
    "\n",
    "non_relevant_tags = ['no flute', 'no guitar', 'no piano','no strings', \n",
    "                     'no violin','not classical', 'not english','not opera', \n",
    "                     'not rock','no beat', 'no singer','no drums', 'no singing',\n",
    "                     'no vocal', 'no vocals', 'no voice', 'no voices']\n",
    "\n",
    "annotations.drop(columns=non_relevant_tags, inplace=True)\n",
    "\n",
    "#each tag is mapped to the first synonym\n",
    "renaming_map = {}\n",
    "for row in synonyms:\n",
    "    ref = row[0]\n",
    "    for syn in row:\n",
    "        if syn != ref:\n",
    "            renaming_map[syn] = ref"
   ]
  },
  {
   "cell_type": "code",
   "execution_count": 5,
   "metadata": {},
   "outputs": [
    {
     "name": "stdout",
     "output_type": "stream",
     "text": [
      "After merge: 125\n"
     ]
    }
   ],
   "source": [
    "#rename and merge synonym columns\n",
    "annotations.rename(columns=renaming_map, inplace=True)\n",
    "annotations = annotations.groupby(lambda x:x, axis=1).sum()\n",
    "annotations = annotations.applymap(lambda x: 1 if type(x)==int and x>=1 else x)\n",
    "print(\"After merge: {}\".format(len(annotations.columns.values)))"
   ]
  },
  {
   "cell_type": "code",
   "execution_count": 6,
   "metadata": {},
   "outputs": [],
   "source": [
    "n = 50\n",
    "top_n = (annotations.drop(['clip_id', 'mp3_path'], axis=1)\n",
    "               .sum()\n",
    "               .sort_values()\n",
    "               .tail(n)\n",
    "               .index\n",
    "               .tolist())"
   ]
  },
  {
   "cell_type": "code",
   "execution_count": 7,
   "metadata": {},
   "outputs": [
    {
     "data": {
      "image/png": "[encoded data removed]",
      "text/plain": [
       "<Figure size 432x288 with 1 Axes>"
      ]
     },
     "metadata": {},
     "output_type": "display_data"
    }
   ],
   "source": [
    "# plot \n",
    "plt.bar(range(len(annotations.columns.values)-2),list(annotations.drop(['clip_id','mp3_path'],axis=1)\n",
    "                                                      .sum(axis=0).sort_values(ascending=False)))\n",
    "plt.show()"
   ]
  },
  {
   "cell_type": "code",
   "execution_count": 8,
   "metadata": {},
   "outputs": [
    {
     "name": "stdout",
     "output_type": "stream",
     "text": [
      "Coverage: 0.9000013568336929\n"
     ]
    }
   ],
   "source": [
    "total_tag_instances = annotations.drop(['clip_id','mp3_path'],axis=1).sum(axis=0).sum()\n",
    "total_tag_instances_top_n = annotations[top_n].sum(axis=0).sum()\n",
    "print(\"Coverage: {}\".format(total_tag_instances_top_n/total_tag_instances))"
   ]
  },
  {
   "cell_type": "code",
   "execution_count": 9,
   "metadata": {},
   "outputs": [],
   "source": [
    "final_annotations = annotations[top_n + ['mp3_path']] \n",
    "final_annotations.to_csv(path_or_buf=annotation_out_path, sep='\\t')"
   ]
  },
  {
   "cell_type": "code",
   "execution_count": null,
   "metadata": {},
   "outputs": [],
   "source": []
  }
 ],
 "metadata": {
  "kernelspec": {
   "display_name": "musictagger",
   "language": "python",
   "name": "musictagger"
  },
  "language_info": {
   "codemirror_mode": {
    "name": "ipython",
    "version": 3
   },
   "file_extension": ".py",
   "mimetype": "text/x-python",
   "name": "python",
   "nbconvert_exporter": "python",
   "pygments_lexer": "ipython3",
   "version": "3.6.5"
  }
 },
 "nbformat": 4,
 "nbformat_minor": 2
}
