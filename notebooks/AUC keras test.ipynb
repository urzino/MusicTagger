{
 "cells": [
  {
   "cell_type": "code",
   "execution_count": null,
   "metadata": {},
   "outputs": [],
   "source": [
    "import numpy as np\n",
    "import tensorflow as tf\n",
    "from sklearn.metrics import roc_auc_score, auc, roc_curve\n",
    "from sklearn.datasets import make_classification\n",
    "from keras.models import Sequential\n",
    "from keras.layers import Dense, Activation\n",
    "from keras.utils import np_utils\n",
    "from keras.callbacks import Callback, EarlyStopping\n",
    "\n",
    "\n",
    "    \n",
    "def auc_roc(y_true, y_pred):\n",
    "    # any tensorflow metric\n",
    "    value, update_op = tf.metrics.auc(y_true, y_pred)\n",
    "\n",
    "    # find all variables created for this metric\n",
    "    metric_vars = [i for i in tf.local_variables() if 'auc_roc' in i.name.split('/')[1]]\n",
    "\n",
    "    # Add metric variables to GLOBAL_VARIABLES collection.\n",
    "    # They will be initialized for new session.\n",
    "    for v in metric_vars:\n",
    "        print(v)\n",
    "        tf.add_to_collection(tf.GraphKeys.GLOBAL_VARIABLES, v)\n",
    "    # force to update metric values\n",
    "    with tf.control_dependencies([update_op]):\n",
    "        value = tf.identity(value)\n",
    "        return value\n",
    "\n",
    "def auc_roc_ignorante(y_true, y_pred):\n",
    "    # any tensorflow metric\n",
    "    value, _ = tf.metrics.auc(y_true,y_pred)\n",
    "    return value"
   ]
  },
  {
   "cell_type": "code",
   "execution_count": null,
   "metadata": {},
   "outputs": [],
   "source": [
    "# generation a small dataset\n",
    "N_all = 1000\n",
    "N_tr = int(0.7 * N_all)\n",
    "N_te = N_all - N_tr\n",
    "\n",
    "np.random.seed(0)\n",
    "x_dim = 50\n",
    "y_dim = 30\n",
    "X = np.random.rand(N_all,x_dim)\n",
    "y = np.random.randint(0,2,size=(N_all-1,y_dim))\n",
    "y_app = np.zeros(shape= (1,y_dim))\n",
    "y_app[0] = 1\n",
    "y = np.vstack((y,y_app))\n",
    "\n",
    "X_train, X_valid = X[:N_tr, :], X[N_tr:, :]\n",
    "y_train, y_valid = y[:N_tr, :], y[N_tr:, :]"
   ]
  },
  {
   "cell_type": "code",
   "execution_count": null,
   "metadata": {},
   "outputs": [],
   "source": [
    "# model & train\n",
    "model = Sequential()\n",
    "model.add(Dense(y_dim,input_shape=(X.shape[1],)))\n",
    "model.add(Activation('sigmoid'))\n",
    "\n",
    "model.compile(loss='binary_crossentropy',\n",
    "              optimizer='adam',\n",
    "              metrics=['accuracy', auc_roc])\n",
    "\n",
    "my_callbacks = [EarlyStopping(monitor='auc_roc', patience=300, verbose=1, mode='max')]"
   ]
  },
  {
   "cell_type": "code",
   "execution_count": null,
   "metadata": {},
   "outputs": [],
   "source": [
    "model.fit(X, y,batch_size=7000, epochs=20, verbose=1,callbacks=my_callbacks)\n",
    "\n",
    "# # or use independent valid set\n",
    "# model.fit(X_train, y_train,\n",
    "#           validation_data=(X_valid, y_valid),\n",
    "#           batch_size=32, nb_epoch=5, verbose=1,\n",
    "#           callbacks=my_callbacks)"
   ]
  },
  {
   "cell_type": "code",
   "execution_count": null,
   "metadata": {},
   "outputs": [],
   "source": [
    "y_pred = model.predict(X_train)"
   ]
  },
  {
   "cell_type": "code",
   "execution_count": null,
   "metadata": {},
   "outputs": [],
   "source": [
    "aucs = []\n",
    "for i in range(y.shape[1]):\n",
    "    fpr, tpr, thresholds = roc_curve(y_train[:,i], y_pred[:,i],)\n",
    "    aucs.append(auc(fpr,tpr))\n",
    "    print(aucs[i])\n",
    "np.mean(aucs)"
   ]
  },
  {
   "cell_type": "code",
   "execution_count": null,
   "metadata": {},
   "outputs": [],
   "source": [
    "roc_auc_score(y_train, y_pred)"
   ]
  }
 ],
 "metadata": {
  "kernelspec": {
   "display_name": "Python 3",
   "language": "python",
   "name": "python3"
  },
  "language_info": {
   "codemirror_mode": {
    "name": "ipython",
    "version": 3
   },
   "file_extension": ".py",
   "mimetype": "text/x-python",
   "name": "python",
   "nbconvert_exporter": "python",
   "pygments_lexer": "ipython3",
   "version": "3.6.4"
  }
 },
 "nbformat": 4,
 "nbformat_minor": 2
}
