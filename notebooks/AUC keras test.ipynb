{
 "cells": [
  {
   "cell_type": "code",
   "execution_count": 1,
   "metadata": {},
   "outputs": [
    {
     "name": "stderr",
     "output_type": "stream",
     "text": [
      "Using TensorFlow backend.\n"
     ]
    }
   ],
   "source": [
    "import numpy as np\n",
    "import tensorflow as tf\n",
    "from sklearn.metrics import roc_auc_score, auc, roc_curve\n",
    "from sklearn.datasets import make_classification\n",
    "from keras.models import Sequential\n",
    "from keras.layers import Dense, Activation\n",
    "from keras.utils import np_utils\n",
    "from keras.callbacks import Callback, EarlyStopping\n",
    "\n",
    "\n",
    "    \n",
    "def auc_roc(y_true, y_pred):\n",
    "    # any tensorflow metric\n",
    "    value, update_op = tf.metrics.auc(y_true, y_pred)\n",
    "\n",
    "    # find all variables created for this metric\n",
    "    metric_vars = [i for i in tf.local_variables() if 'auc_roc' in i.name.split('/')[1]]\n",
    "\n",
    "    # Add metric variables to GLOBAL_VARIABLES collection.\n",
    "    # They will be initialized for new session.\n",
    "    for v in metric_vars:\n",
    "        print(v)\n",
    "        tf.add_to_collection(tf.GraphKeys.GLOBAL_VARIABLES, v)\n",
    "    # force to update metric values\n",
    "    with tf.control_dependencies([update_op]):\n",
    "        value = tf.identity(value)\n",
    "        return value\n",
    "\n",
    "def auc_roc_ignorante(y_true, y_pred):\n",
    "    # any tensorflow metric\n",
    "    value, _ = tf.metrics.auc(y_true,y_pred)\n",
    "    return value"
   ]
  },
  {
   "cell_type": "code",
   "execution_count": 32,
   "metadata": {},
   "outputs": [],
   "source": [
    "# generation a small dataset\n",
    "N_all = 1000\n",
    "N_tr = int(0.7 * N_all)\n",
    "N_te = N_all - N_tr\n",
    "\n",
    "np.random.seed(0)\n",
    "x_dim = 50\n",
    "y_dim = 30\n",
    "X = np.random.rand(N_all,x_dim)\n",
    "y = np.random.randint(0,2,size=(N_all-1,y_dim))\n",
    "y_app = np.zeros(shape= (1,y_dim))\n",
    "y_app[0] = 1\n",
    "y = np.vstack((y,y_app))\n",
    "\n",
    "X_train, X_valid = X[:N_tr, :], X[N_tr:, :]\n",
    "y_train, y_valid = y[:N_tr, :], y[N_tr:, :]"
   ]
  },
  {
   "cell_type": "code",
   "execution_count": 37,
   "metadata": {},
   "outputs": [
    {
     "name": "stdout",
     "output_type": "stream",
     "text": [
      "<tf.Variable 'metrics/auc_roc/auc/true_positives:0' shape=(200,) dtype=float32_ref>\n",
      "<tf.Variable 'metrics/auc_roc/auc/false_negatives:0' shape=(200,) dtype=float32_ref>\n",
      "<tf.Variable 'metrics/auc_roc/auc/true_negatives:0' shape=(200,) dtype=float32_ref>\n",
      "<tf.Variable 'metrics/auc_roc/auc/false_positives:0' shape=(200,) dtype=float32_ref>\n",
      "<tf.Variable 'metrics_1/auc_roc/auc/true_positives:0' shape=(200,) dtype=float32_ref>\n",
      "<tf.Variable 'metrics_1/auc_roc/auc/false_negatives:0' shape=(200,) dtype=float32_ref>\n",
      "<tf.Variable 'metrics_1/auc_roc/auc/true_negatives:0' shape=(200,) dtype=float32_ref>\n",
      "<tf.Variable 'metrics_1/auc_roc/auc/false_positives:0' shape=(200,) dtype=float32_ref>\n",
      "<tf.Variable 'metrics_2/auc_roc/auc/true_positives:0' shape=(200,) dtype=float32_ref>\n",
      "<tf.Variable 'metrics_2/auc_roc/auc/false_negatives:0' shape=(200,) dtype=float32_ref>\n",
      "<tf.Variable 'metrics_2/auc_roc/auc/true_negatives:0' shape=(200,) dtype=float32_ref>\n",
      "<tf.Variable 'metrics_2/auc_roc/auc/false_positives:0' shape=(200,) dtype=float32_ref>\n",
      "<tf.Variable 'metrics_3/auc_roc/auc/true_positives:0' shape=(200,) dtype=float32_ref>\n",
      "<tf.Variable 'metrics_3/auc_roc/auc/false_negatives:0' shape=(200,) dtype=float32_ref>\n",
      "<tf.Variable 'metrics_3/auc_roc/auc/true_negatives:0' shape=(200,) dtype=float32_ref>\n",
      "<tf.Variable 'metrics_3/auc_roc/auc/false_positives:0' shape=(200,) dtype=float32_ref>\n",
      "<tf.Variable 'metrics_4/auc_roc/auc/true_positives:0' shape=(200,) dtype=float32_ref>\n",
      "<tf.Variable 'metrics_4/auc_roc/auc/false_negatives:0' shape=(200,) dtype=float32_ref>\n",
      "<tf.Variable 'metrics_4/auc_roc/auc/true_negatives:0' shape=(200,) dtype=float32_ref>\n",
      "<tf.Variable 'metrics_4/auc_roc/auc/false_positives:0' shape=(200,) dtype=float32_ref>\n",
      "<tf.Variable 'metrics_5/auc_roc/auc/true_positives:0' shape=(200,) dtype=float32_ref>\n",
      "<tf.Variable 'metrics_5/auc_roc/auc/false_negatives:0' shape=(200,) dtype=float32_ref>\n",
      "<tf.Variable 'metrics_5/auc_roc/auc/true_negatives:0' shape=(200,) dtype=float32_ref>\n",
      "<tf.Variable 'metrics_5/auc_roc/auc/false_positives:0' shape=(200,) dtype=float32_ref>\n"
     ]
    }
   ],
   "source": [
    "# model & train\n",
    "model = Sequential()\n",
    "model.add(Dense(y_dim,input_shape=(X.shape[1],)))\n",
    "model.add(Activation('sigmoid'))\n",
    "\n",
    "model.compile(loss='binary_crossentropy',\n",
    "              optimizer='adam',\n",
    "              metrics=['accuracy', auc_roc])\n",
    "\n",
    "my_callbacks = [EarlyStopping(monitor='auc_roc', patience=300, verbose=1, mode='max')]"
   ]
  },
  {
   "cell_type": "code",
   "execution_count": 38,
   "metadata": {},
   "outputs": [
    {
     "name": "stdout",
     "output_type": "stream",
     "text": [
      "Epoch 1/20\n",
      "1000/1000 [==============================] - 0s 336us/step - loss: 0.7296 - acc: 0.5037 - auc_roc: 0.0000e+00\n",
      "Epoch 2/20\n",
      "1000/1000 [==============================] - 0s 48us/step - loss: 0.7279 - acc: 0.5037 - auc_roc: 0.5045\n",
      "Epoch 3/20\n",
      "1000/1000 [==============================] - 0s 50us/step - loss: 0.7257 - acc: 0.5026 - auc_roc: 0.5046\n",
      "Epoch 4/20\n",
      "1000/1000 [==============================] - 0s 45us/step - loss: 0.7238 - acc: 0.5029 - auc_roc: 0.5047\n",
      "Epoch 5/20\n",
      "1000/1000 [==============================] - 0s 46us/step - loss: 0.7219 - acc: 0.5044 - auc_roc: 0.5048\n",
      "Epoch 6/20\n",
      "1000/1000 [==============================] - 0s 45us/step - loss: 0.7202 - acc: 0.5041 - auc_roc: 0.5049\n",
      "Epoch 7/20\n",
      "1000/1000 [==============================] - 0s 46us/step - loss: 0.7186 - acc: 0.5048 - auc_roc: 0.5050\n",
      "Epoch 8/20\n",
      "1000/1000 [==============================] - 0s 50us/step - loss: 0.7170 - acc: 0.5052 - auc_roc: 0.5050\n",
      "Epoch 9/20\n",
      "1000/1000 [==============================] - 0s 52us/step - loss: 0.7156 - acc: 0.5049 - auc_roc: 0.5051\n",
      "Epoch 10/20\n",
      "1000/1000 [==============================] - 0s 48us/step - loss: 0.7143 - acc: 0.5046 - auc_roc: 0.5052\n",
      "Epoch 11/20\n",
      "1000/1000 [==============================] - 0s 47us/step - loss: 0.7130 - acc: 0.5052 - auc_roc: 0.5053\n",
      "Epoch 12/20\n",
      "1000/1000 [==============================] - 0s 49us/step - loss: 0.7119 - acc: 0.5049 - auc_roc: 0.5054\n",
      "Epoch 13/20\n",
      "1000/1000 [==============================] - 0s 46us/step - loss: 0.7109 - acc: 0.5049 - auc_roc: 0.5055\n",
      "Epoch 14/20\n",
      "1000/1000 [==============================] - 0s 51us/step - loss: 0.7099 - acc: 0.5058 - auc_roc: 0.5056\n",
      "Epoch 15/20\n",
      "1000/1000 [==============================] - 0s 47us/step - loss: 0.7091 - acc: 0.5057 - auc_roc: 0.5057\n",
      "Epoch 16/20\n",
      "1000/1000 [==============================] - 0s 44us/step - loss: 0.7083 - acc: 0.5059 - auc_roc: 0.5058\n",
      "Epoch 17/20\n",
      "1000/1000 [==============================] - 0s 46us/step - loss: 0.7076 - acc: 0.5063 - auc_roc: 0.5059\n",
      "Epoch 18/20\n",
      "1000/1000 [==============================] - 0s 47us/step - loss: 0.7069 - acc: 0.5055 - auc_roc: 0.5060\n",
      "Epoch 19/20\n",
      "1000/1000 [==============================] - 0s 53us/step - loss: 0.7064 - acc: 0.5060 - auc_roc: 0.5061\n",
      "Epoch 20/20\n",
      "1000/1000 [==============================] - 0s 51us/step - loss: 0.7058 - acc: 0.5062 - auc_roc: 0.5062\n"
     ]
    },
    {
     "data": {
      "text/plain": [
       "<keras.callbacks.History at 0x7f1e841db9b0>"
      ]
     },
     "execution_count": 38,
     "metadata": {},
     "output_type": "execute_result"
    }
   ],
   "source": [
    "model.fit(X, y,batch_size=7000, epochs=20, verbose=1,callbacks=my_callbacks)\n",
    "\n",
    "# # or use independent valid set\n",
    "# model.fit(X_train, y_train,\n",
    "#           validation_data=(X_valid, y_valid),\n",
    "#           batch_size=32, nb_epoch=5, verbose=1,\n",
    "#           callbacks=my_callbacks)"
   ]
  },
  {
   "cell_type": "code",
   "execution_count": 39,
   "metadata": {},
   "outputs": [],
   "source": [
    "y_pred = model.predict(X_train)"
   ]
  },
  {
   "cell_type": "code",
   "execution_count": 40,
   "metadata": {},
   "outputs": [
    {
     "name": "stdout",
     "output_type": "stream",
     "text": [
      "0.4891169458868097\n",
      "0.5054022687894341\n",
      "0.5253284987464374\n",
      "0.5133837827247569\n",
      "0.5044308613790903\n",
      "0.5112280356674535\n",
      "0.5160102544005748\n",
      "0.5131949908208759\n",
      "0.5229251045205121\n",
      "0.5420289145217512\n",
      "0.4729966296914368\n",
      "0.5305150901489417\n",
      "0.4727066392345122\n",
      "0.473072055521535\n",
      "0.5187552551449399\n",
      "0.4649505241500931\n",
      "0.4882142507105752\n",
      "0.4844264236306768\n",
      "0.4991669116926394\n",
      "0.516975056392821\n",
      "0.5255245414103016\n",
      "0.5097102833492518\n",
      "0.5244956772334294\n",
      "0.503070992191839\n",
      "0.5011519607843138\n",
      "0.5462278861304095\n",
      "0.4803769328843702\n",
      "0.5399428104575164\n",
      "0.5475259406813562\n",
      "0.46078335133012666\n"
     ]
    },
    {
     "data": {
      "text/plain": [
       "0.5067879623409594"
      ]
     },
     "execution_count": 40,
     "metadata": {},
     "output_type": "execute_result"
    }
   ],
   "source": [
    "aucs = []\n",
    "for i in range(y.shape[1]):\n",
    "    fpr, tpr, thresholds = roc_curve(y_train[:,i], y_pred[:,i],)\n",
    "    aucs.append(auc(fpr,tpr))\n",
    "    print(aucs[i])\n",
    "np.mean(aucs)"
   ]
  },
  {
   "cell_type": "code",
   "execution_count": 41,
   "metadata": {},
   "outputs": [
    {
     "data": {
      "text/plain": [
       "0.5067879623409594"
      ]
     },
     "execution_count": 41,
     "metadata": {},
     "output_type": "execute_result"
    }
   ],
   "source": [
    "roc_auc_score(y_train, y_pred)"
   ]
  }
 ],
 "metadata": {
  "kernelspec": {
   "display_name": "Python 3",
   "language": "python",
   "name": "python3"
  },
  "language_info": {
   "codemirror_mode": {
    "name": "ipython",
    "version": 3
   },
   "file_extension": ".py",
   "mimetype": "text/x-python",
   "name": "python",
   "nbconvert_exporter": "python",
   "pygments_lexer": "ipython3",
   "version": "3.6.4"
  }
 },
 "nbformat": 4,
 "nbformat_minor": 2
}
