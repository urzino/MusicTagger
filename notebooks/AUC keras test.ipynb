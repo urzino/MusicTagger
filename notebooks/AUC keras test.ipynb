{
 "cells": [
  {
   "cell_type": "code",
   "execution_count": 55,
   "metadata": {},
   "outputs": [],
   "source": [
    "import numpy as np\n",
    "import tensorflow as tf\n",
    "import sklearn.metrics as met\n",
    "from sklearn.datasets import make_classification\n",
    "from keras.models import Sequential\n",
    "from keras.layers import Dense, Activation\n",
    "from keras.utils import np_utils\n",
    "from keras.callbacks import Callback, EarlyStopping\n",
    "\n",
    "import keras\n",
    "\n",
    "    \n",
    "def auc_roc(y_true, y_pred):\n",
    "    # any tensorflow metric\n",
    "    value, update_op = tf.metrics.auc(y_true, y_pred)\n",
    "\n",
    "    # find all variables created for this metric\n",
    "    metric_vars = [i for i in tf.local_variables() if 'auc_roc' in i.name.split('/')[1]]\n",
    "\n",
    "    # Add metric variables to GLOBAL_VARIABLES collection.\n",
    "    # They will be initialized for new session.\n",
    "    for v in metric_vars:\n",
    "        tf.add_to_collection(tf.GraphKeys.GLOBAL_VARIABLES, v)\n",
    "    # force to update metric values\n",
    "    with tf.control_dependencies([update_op]):\n",
    "        value = tf.identity(value)\n",
    "        return value\n"
   ]
  },
  {
   "cell_type": "code",
   "execution_count": 56,
   "metadata": {},
   "outputs": [],
   "source": [
    "# generation a small dataset\n",
    "N_all = 1000\n",
    "N_tr = int(0.7 * N_all)\n",
    "N_te = N_all - N_tr\n",
    "\n",
    "np.random.seed(0)\n",
    "x_dim = 50\n",
    "y_dim = 10\n",
    "X = np.random.rand(N_all,x_dim)\n",
    "y = np.random.randint(0,2,size=(N_all-1,y_dim))\n",
    "y_app = np.zeros(shape= (1,y_dim))\n",
    "y_app[0] = 1\n",
    "y = np.vstack((y,y_app))\n",
    "\n",
    "X_train, X_valid = X[:N_tr, :], X[N_tr:, :]\n",
    "y_train, y_valid = y[:N_tr, :], y[N_tr:, :]"
   ]
  },
  {
   "cell_type": "code",
   "execution_count": 63,
   "metadata": {},
   "outputs": [],
   "source": [
    "# model & train\n",
    "model = Sequential()\n",
    "model.add(Dense(y_dim,input_shape=(X.shape[1],)))\n",
    "model.add(Activation('sigmoid'))\n",
    "\n",
    "model.compile(loss='binary_crossentropy',\n",
    "              optimizer='adam',\n",
    "              metrics=['accuracy', auc_roc])\n",
    "\n",
    "class MyCallBack(keras.callbacks.Callback):\n",
    "    def __init__(self, callbacks,model):\n",
    "            super().__init__()\n",
    "            self.callback = callbacks\n",
    "            self.model = model\n",
    "            self.model_original = model\n",
    "            self.aucs = 0\n",
    "\n",
    "    def on_epoch_begin(self,epoch,logs=None):\n",
    "            self.model = self.model_original\n",
    "            self.callback.on_epoch_begin(epoch, logs=logs)\n",
    "\n",
    "    def on_epoch_end(self,epoch,logs=None):\n",
    "            self.model = self.model_original\n",
    "            y_pred = self.model.predict(self.validation_data[0])\n",
    "            self.aucs = met.roc_auc_score(self.validation_data[1], y_pred)\n",
    "            print('\\nSKLearn auc: {}\\n'.format(self.aucs))\n",
    "            self.callback.on_epoch_end(epoch, logs=logs)\n",
    "\n",
    "    def on_batch_end(self, batch, logs=None):\n",
    "            self.model = self.model_original\n",
    "            self.callback.on_batch_end(batch, logs=logs)\n",
    "\n",
    "    def on_batch_begin(self, batch, logs=None):\n",
    "            self.model = self.model_original\n",
    "            self.callback.on_batch_begin(batch, logs=logs)\n",
    "\n",
    "    def on_train_begin(self, logs=None):\n",
    "            self.model = self.model_original\n",
    "            self.callback.set_model(self.model)\n",
    "            self.callback.on_train_begin(logs=logs)\n",
    "\n",
    "    def on_train_end(self, logs=None):\n",
    "            self.model = self.model_original\n",
    "            self.callback.on_train_end(logs=logs)\n",
    "\n",
    "'''\n",
    "cbk_tb = keras.callbacks.TensorBoard(log_dir=log_dir, histogram_freq=0, batch_size=batch_size, write_graph=True,\n",
    "                                         write_grads=False, write_images=False, embeddings_freq=0,\n",
    "                                         embeddings_layer_names=None, embeddings_metadata=None)\n",
    "'''\n",
    "cbk_es = keras.callbacks.EarlyStopping(monitor='train_loss', mode='max',\n",
    "                                          min_delta=0, patience=0, verbose=1)\n",
    "'''\n",
    "cbk_mc = keras.callbacks.ModelCheckpoint(monitor='val_loss', mode='max', save_best_only=True, \n",
    "                                            filepath=checkpoint_dir+checkpoint_file_name, \n",
    "                                            verbose=1)\n",
    "'''\n",
    "\n",
    "#cbk = MyCallBack(cbk_tb, model)\n",
    "cbk1 = MyCallBack(cbk_es, model)\n",
    "#cbk2 = MyCallBack(cbk_mc, model)\n",
    "\n",
    "callbacks = [cbk1]"
   ]
  },
  {
   "cell_type": "code",
   "execution_count": 64,
   "metadata": {},
   "outputs": [],
   "source": [
    "#my_callbacks = [EarlyStopping(monitor='auc_roc', patience=300, verbose=1, mode='max')]"
   ]
  },
  {
   "cell_type": "code",
   "execution_count": 65,
   "metadata": {},
   "outputs": [
    {
     "name": "stdout",
     "output_type": "stream",
     "text": [
      "Train on 700 samples, validate on 300 samples\n",
      "Epoch 1/5\n",
      "700/700 [==============================] - 5s 7ms/step - loss: 0.7593 - acc: 0.4970 - auc_roc: 0.0000e+00 - val_loss: 0.7514 - val_acc: 0.5017 - val_auc_roc: 0.4952\n",
      "\n",
      "SKLearn auc: 0.5074847219673992\n",
      "\n",
      "Epoch 2/5\n",
      "700/700 [==============================] - 0s 12us/step - loss: 0.7568 - acc: 0.4959 - auc_roc: 0.4987 - val_loss: 0.7488 - val_acc: 0.5013 - val_auc_roc: 0.4972\n",
      "\n",
      "SKLearn auc: 0.5075690370899403\n",
      "\n",
      "Epoch 3/5\n",
      "700/700 [==============================] - 0s 10us/step - loss: 0.7541 - acc: 0.4983 - auc_roc: 0.4987 - val_loss: 0.7463 - val_acc: 0.5047 - val_auc_roc: 0.4977\n",
      "\n",
      "SKLearn auc: 0.5076866824052282\n",
      "\n",
      "Epoch 4/5\n",
      "700/700 [==============================] - 0s 11us/step - loss: 0.7513 - acc: 0.5004 - auc_roc: 0.4986 - val_loss: 0.7437 - val_acc: 0.5033 - val_auc_roc: 0.4979\n",
      "\n",
      "SKLearn auc: 0.5076752963600113\n",
      "\n",
      "Epoch 5/5\n",
      "700/700 [==============================] - 0s 11us/step - loss: 0.7486 - acc: 0.4986 - auc_roc: 0.4986 - val_loss: 0.7413 - val_acc: 0.5093 - val_auc_roc: 0.4981\n",
      "\n",
      "SKLearn auc: 0.5077465101691238\n",
      "\n"
     ]
    },
    {
     "name": "stderr",
     "output_type": "stream",
     "text": [
      "/home/emanuele.dallalonga/miniconda3/envs/musictagger/lib/python3.6/site-packages/keras/callbacks.py:526: RuntimeWarning: Early stopping conditioned on metric `train_loss` which is not available. Available metrics are: val_loss,val_acc,val_auc_roc,loss,acc,auc_roc\n",
      "  (self.monitor, ','.join(list(logs.keys()))), RuntimeWarning\n"
     ]
    },
    {
     "data": {
      "text/plain": [
       "<keras.callbacks.History at 0x7fe1a71918d0>"
      ]
     },
     "execution_count": 65,
     "metadata": {},
     "output_type": "execute_result"
    }
   ],
   "source": [
    "model.fit(X_train, y_train, batch_size=len(X_train), validation_data=(X_valid, y_valid), epochs=5, verbose=1,callbacks=callbacks)\n",
    "\n",
    "# # or use independent valid set\n",
    "# model.fit(X_train, y_train,\n",
    "#           validation_data=(X_valid, y_valid),\n",
    "#           batch_size=32, nb_epoch=5, verbose=1,\n",
    "#           callbacks=my_callbacks)"
   ]
  },
  {
   "cell_type": "code",
   "execution_count": 66,
   "metadata": {},
   "outputs": [],
   "source": [
    "y_pred = model.predict(X_valid)"
   ]
  },
  {
   "cell_type": "code",
   "execution_count": 54,
   "metadata": {},
   "outputs": [
    {
     "name": "stdout",
     "output_type": "stream",
     "text": [
      "163\n",
      "0.5046255114748266\n",
      "150\n",
      "0.5593777777777778\n",
      "154\n",
      "0.4983482142857143\n",
      "159\n",
      "0.49655540246233165\n",
      "152\n",
      "0.5046699875466999\n",
      "145\n",
      "0.45399182076813654\n",
      "152\n",
      "0.4644321625958282\n",
      "142\n",
      "0.531445842037424\n",
      "147\n",
      "0.489894943019943\n",
      "140\n",
      "0.4440625\n"
     ]
    },
    {
     "data": {
      "text/plain": [
       "0.49474041619686815"
      ]
     },
     "execution_count": 54,
     "metadata": {},
     "output_type": "execute_result"
    }
   ],
   "source": [
    "aucs = []\n",
    "for i in range(y.shape[1]):\n",
    "    fpr, tpr, thresholds = met.roc_curve(y_valid[:,i], y_pred[:,i],)\n",
    "    print(len(thresholds))\n",
    "    aucs.append(met.auc(fpr,tpr))\n",
    "    print(aucs[i])\n",
    "np.mean(aucs)"
   ]
  },
  {
   "cell_type": "code",
   "execution_count": 47,
   "metadata": {},
   "outputs": [
    {
     "data": {
      "text/plain": [
       "array([[0.4304548 , 0.44790632, 0.5572338 , ..., 0.44073677, 0.8068553 ,\n",
       "        0.478079  ],\n",
       "       [0.47090185, 0.32741264, 0.68185157, ..., 0.5443486 , 0.6817875 ,\n",
       "        0.35700214],\n",
       "       [0.5274341 , 0.51642483, 0.44326785, ..., 0.5007694 , 0.6795557 ,\n",
       "        0.45367467],\n",
       "       ...,\n",
       "       [0.5411633 , 0.47085306, 0.45827228, ..., 0.50788945, 0.682047  ,\n",
       "        0.34951356],\n",
       "       [0.49606347, 0.40679526, 0.58102834, ..., 0.47269872, 0.6160014 ,\n",
       "        0.401137  ],\n",
       "       [0.45154715, 0.39507172, 0.7008329 , ..., 0.57089204, 0.49671045,\n",
       "        0.5038259 ]], dtype=float32)"
      ]
     },
     "execution_count": 47,
     "metadata": {},
     "output_type": "execute_result"
    }
   ],
   "source": [
    "y_pred"
   ]
  },
  {
   "cell_type": "code",
   "execution_count": null,
   "metadata": {},
   "outputs": [],
   "source": []
  }
 ],
 "metadata": {
  "kernelspec": {
   "display_name": "musictagger",
   "language": "python",
   "name": "musictagger"
  },
  "language_info": {
   "codemirror_mode": {
    "name": "ipython",
    "version": 3
   },
   "file_extension": ".py",
   "mimetype": "text/x-python",
   "name": "python",
   "nbconvert_exporter": "python",
   "pygments_lexer": "ipython3",
   "version": "3.6.5"
  }
 },
 "nbformat": 4,
 "nbformat_minor": 2
}
